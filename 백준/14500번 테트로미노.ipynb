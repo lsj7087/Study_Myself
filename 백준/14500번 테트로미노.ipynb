{
 "cells": [
  {
   "cell_type": "code",
   "execution_count": 27,
   "id": "dfbe7fec",
   "metadata": {},
   "outputs": [
    {
     "name": "stdout",
     "output_type": "stream",
     "text": [
      "5 5\n",
      "1 2 3 4 5\n",
      "5 4 3 2 1\n",
      "2 3 4 5 6\n",
      "6 5 4 3 2\n",
      "1 2 1 2 1\n"
     ]
    }
   ],
   "source": [
    "import numpy as np\n",
    "N,M = map(int,input().split())\n",
    "arr = np.zeros([N,M])\n",
    "for i in range(N):\n",
    "    arr[i,:] = input().split()"
   ]
  },
  {
   "cell_type": "code",
   "execution_count": 72,
   "id": "8ade1fb8",
   "metadata": {
    "scrolled": true
   },
   "outputs": [
    {
     "data": {
      "text/plain": [
       "array([[1., 2., 3., 4., 5.],\n",
       "       [5., 4., 3., 2., 1.],\n",
       "       [2., 3., 4., 5., 6.],\n",
       "       [6., 5., 4., 3., 2.],\n",
       "       [1., 2., 1., 2., 1.]])"
      ]
     },
     "execution_count": 72,
     "metadata": {},
     "output_type": "execute_result"
    }
   ],
   "source": [
    "arr"
   ]
  },
  {
   "cell_type": "code",
   "execution_count": 70,
   "id": "9b1ea667",
   "metadata": {},
   "outputs": [],
   "source": [
    "n = N-1\n",
    "m = M-1\n",
    "#1. 막대기\n",
    "N,M = n,m\n",
    "bar_sum_lst = []\n",
    "for i in range(N):\n",
    "    for j in range(M-1):\n",
    "        bar_sum_lst.append(np.sum(arr[i,j:j+4]))\n",
    "        \n",
    "N,M = m,n\n",
    "for i in range(N):\n",
    "    for j in range(M-1):\n",
    "        bar_sum_lst.append(np.sum(arr[i,j:j+4]))\n",
    "\n",
    "#2. 정사각형\n",
    "square_lst = []\n",
    "for i in range(N-1):\n",
    "    for j in range(M-1):\n",
    "        square_lst.append(np.sum(arr[i:i+2,j:j+2]))\n",
    "        \n",
    "#3. ㄴ자\n",
    "n_lst = []\n",
    "for i in range(N-2):\n",
    "    for j in range(M-1):\n",
    "        n_lst.append(np.sum(arr[i:i+3,j:j+2]) - arr[i,j+1] - arr[i+1,j+1])\n",
    "        \n",
    "#4. ㄴㄱ\n",
    "s_lst = []\n",
    "for i in range(N-2):\n",
    "    for j in range(M-1):\n",
    "        s_lst.append(np.sum(arr[i:i+3,j:j+2]) - arr[i,j+1] - arr[i+2,j])\n",
    "        \n",
    "#5. ㅜ자\n",
    "u_lst = []\n",
    "for i in range(N-2):\n",
    "    for j in range(M-1):\n",
    "        u_lst.append(np.sum(arr[i:i+2,j:j+3]) - arr[i+1,j] - arr[i+1,j+2])"
   ]
  },
  {
   "cell_type": "code",
   "execution_count": 71,
   "id": "3ffaa84c",
   "metadata": {},
   "outputs": [
    {
     "data": {
      "text/plain": [
       "18.0"
      ]
     },
     "execution_count": 71,
     "metadata": {},
     "output_type": "execute_result"
    }
   ],
   "source": [
    "np.max([np.max(bar_sum_lst), np.max(square_lst), np.max(n_lst), np.max(s_lst), np.max(u_lst)])"
   ]
  },
  {
   "cell_type": "code",
   "execution_count": null,
   "id": "d34b1310",
   "metadata": {},
   "outputs": [],
   "source": []
  }
 ],
 "metadata": {
  "kernelspec": {
   "display_name": "Python 3",
   "language": "python",
   "name": "python3"
  },
  "language_info": {
   "codemirror_mode": {
    "name": "ipython",
    "version": 3
   },
   "file_extension": ".py",
   "mimetype": "text/x-python",
   "name": "python",
   "nbconvert_exporter": "python",
   "pygments_lexer": "ipython3",
   "version": "3.8.8"
  }
 },
 "nbformat": 4,
 "nbformat_minor": 5
}
