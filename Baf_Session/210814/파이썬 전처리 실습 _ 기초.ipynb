{
 "cells": [
  {
   "cell_type": "markdown",
   "metadata": {},
   "source": [
    "## Jupyter Notebook\n",
    "\n",
    "- 웹상에서 파이썬 코딩 가능\n",
    "- 더 많은 파이썬 기능 활용 가능"
   ]
  },
  {
   "cell_type": "markdown",
   "metadata": {},
   "source": [
    "### 파이썬 연산자\n",
    "\n",
    "- 기본연산 : + , - , * , / ,**(제곱)\n",
    "- 몫 계산 : //\n",
    "- 나머지 계산 : %\n"
   ]
  },
  {
   "cell_type": "markdown",
   "metadata": {},
   "source": [
    "#### 수치형"
   ]
  },
  {
   "cell_type": "code",
   "execution_count": 3,
   "metadata": {},
   "outputs": [],
   "source": [
    "a = 10\n",
    "b = 35"
   ]
  },
  {
   "cell_type": "code",
   "execution_count": 4,
   "metadata": {},
   "outputs": [
    {
     "name": "stdout",
     "output_type": "stream",
     "text": [
      "더하기 :  45\n",
      "빼기 :  -25\n",
      "곱하기 :  350\n",
      "나누기 :  0.2857142857142857\n",
      "제곱 :  100\n",
      "몫계산 :  3\n",
      "나머지계산 :  5\n"
     ]
    }
   ],
   "source": [
    "print('더하기 : ',a+b)\n",
    "print('빼기 : ' , a-b)\n",
    "print('곱하기 : ', a*b)\n",
    "print('나누기 : ', a/b)\n",
    "print('제곱 : ', a**2)\n",
    "print('몫계산 : ', b//a)\n",
    "print('나머지계산 : ',b%a)"
   ]
  },
  {
   "cell_type": "markdown",
   "metadata": {},
   "source": [
    "#### 문자형"
   ]
  },
  {
   "cell_type": "code",
   "execution_count": 5,
   "metadata": {},
   "outputs": [
    {
     "name": "stdout",
     "output_type": "stream",
     "text": [
      "코로나\n",
      "걸리지마세요\n"
     ]
    }
   ],
   "source": [
    "a = '코로나'\n",
    "b = '걸리지마세요'\n",
    "\n",
    "print(a)\n",
    "print(b)"
   ]
  },
  {
   "cell_type": "code",
   "execution_count": 7,
   "metadata": {},
   "outputs": [
    {
     "name": "stdout",
     "output_type": "stream",
     "text": [
      "코로나걸리지마세요\n"
     ]
    }
   ],
   "source": [
    "print(a+b)"
   ]
  },
  {
   "cell_type": "code",
   "execution_count": 10,
   "metadata": {},
   "outputs": [
    {
     "name": "stdout",
     "output_type": "stream",
     "text": [
      "코로나코로나\n",
      "코로나코로나걸리지마세요\n"
     ]
    }
   ],
   "source": [
    "print(a*2)\n",
    "print(a*2+b)"
   ]
  },
  {
   "cell_type": "code",
   "execution_count": 12,
   "metadata": {},
   "outputs": [
    {
     "name": "stdout",
     "output_type": "stream",
     "text": [
      "비어플비어플비어플\n"
     ]
    }
   ],
   "source": [
    "print('비어플'*3)"
   ]
  },
  {
   "cell_type": "code",
   "execution_count": 18,
   "metadata": {},
   "outputs": [
    {
     "name": "stdout",
     "output_type": "stream",
     "text": [
      "민\n",
      "아몬드봉봉\n",
      "숲\n",
      "코나무숲\n",
      "숲무나코초 인계외는마엄 기딸진빠에랑사 봉봉드몬아 코초트민\n"
     ]
    }
   ],
   "source": [
    "# 문자열 인덱싱\n",
    "\n",
    "sentence = '민트초코 아몬드봉봉 사랑에빠진딸기 엄마는외계인 초코나무숲'\n",
    "\n",
    "print(sentence[0])\n",
    "print(sentence[5:10])\n",
    "\n",
    "print(sentence[-1])\n",
    "print(sentence[-4:])\n",
    "print(sentence[::-1]) # reverse"
   ]
  },
  {
   "cell_type": "markdown",
   "metadata": {},
   "source": [
    "#### 비교연산자\n"
   ]
  },
  {
   "cell_type": "code",
   "execution_count": 19,
   "metadata": {},
   "outputs": [],
   "source": [
    "num1 = 10 ; num2 = 20"
   ]
  },
  {
   "cell_type": "code",
   "execution_count": 20,
   "metadata": {},
   "outputs": [
    {
     "name": "stdout",
     "output_type": "stream",
     "text": [
      "같은지 비교 :  False\n",
      "다른지 비교 :  True\n",
      "대소비교 :  False\n"
     ]
    }
   ],
   "source": [
    "print('같은지 비교 : ',num1 == num2)\n",
    "print('다른지 비교 : ',num1 != num2)\n",
    "print('대소비교 : ', num1 >= num2)"
   ]
  },
  {
   "cell_type": "code",
   "execution_count": 22,
   "metadata": {},
   "outputs": [
    {
     "name": "stdout",
     "output_type": "stream",
     "text": [
      "같은지 비교 :  False\n",
      "다른지 비교 :  True\n"
     ]
    }
   ],
   "source": [
    "str1 = '민트초코'\n",
    "str2 = '초코'\n",
    "\n",
    "print('같은지 비교 : ',str1 == str2)\n",
    "print('다른지 비교 : ',str1 != str2)"
   ]
  },
  {
   "cell_type": "markdown",
   "metadata": {},
   "source": [
    "### 파이썬 자료형"
   ]
  },
  {
   "cell_type": "markdown",
   "metadata": {},
   "source": [
    "#### 1. 리스트\n",
    "- 여러 변수들을 묶어서 목록으로 만들 수 있는 자료형\n",
    "- 수정, 삭제 가능\n",
    "- 리스트끼리의 연산 가능"
   ]
  },
  {
   "cell_type": "code",
   "execution_count": 45,
   "metadata": {},
   "outputs": [],
   "source": [
    "icecream = ['민트초코' , '아몬드봉봉', '엄마는외계인', '사랑에빠진딸기','초코나무숲']\n",
    "hate = ['레인보우샤베트','체리쥬빌레']"
   ]
  },
  {
   "cell_type": "code",
   "execution_count": 24,
   "metadata": {},
   "outputs": [
    {
     "name": "stdout",
     "output_type": "stream",
     "text": [
      "['민트초코', '아몬드봉봉', '엄마는외계인', '사랑에빠진딸기', '초코나무숲']\n",
      "['레인보우샤베트', '체리쥬빌레']\n"
     ]
    }
   ],
   "source": [
    "print(icecream)\n",
    "print(hate)"
   ]
  },
  {
   "cell_type": "code",
   "execution_count": 25,
   "metadata": {},
   "outputs": [
    {
     "name": "stdout",
     "output_type": "stream",
     "text": [
      "민트초코\n",
      "엄마는외계인\n",
      "레인보우샤베트\n"
     ]
    }
   ],
   "source": [
    "# 인덱싱\n",
    "\n",
    "print(icecream[0])\n",
    "print(icecream[2])\n",
    "print(hate[0])"
   ]
  },
  {
   "cell_type": "code",
   "execution_count": 26,
   "metadata": {},
   "outputs": [
    {
     "data": {
      "text/plain": [
       "['민트초코', '아몬드봉봉', '엄마는외계인', '사랑에빠진딸기', '초코나무숲', '레인보우샤베트', '체리쥬빌레']"
      ]
     },
     "execution_count": 26,
     "metadata": {},
     "output_type": "execute_result"
    }
   ],
   "source": [
    "icecream2 = icecream+hate\n",
    "icecream2"
   ]
  },
  {
   "cell_type": "code",
   "execution_count": 27,
   "metadata": {},
   "outputs": [
    {
     "name": "stdout",
     "output_type": "stream",
     "text": [
      "['레인보우샤베트', '체리쥬빌레', '레인보우샤베트', '체리쥬빌레']\n"
     ]
    }
   ],
   "source": [
    "print(hate*2)"
   ]
  },
  {
   "cell_type": "markdown",
   "metadata": {},
   "source": [
    "##### 리스트 원소 수정 및 삭제"
   ]
  },
  {
   "cell_type": "code",
   "execution_count": 41,
   "metadata": {},
   "outputs": [
    {
     "name": "stdout",
     "output_type": "stream",
     "text": [
      "['바람과함께사라지다', '아몬드봉봉', '엄마는외계인', '사랑에빠진딸기', '초코나무숲']\n"
     ]
    }
   ],
   "source": [
    "# 인덱스를 통해 원소수정\n",
    "\n",
    "icecream[0] = '바람과함께사라지다'\n",
    "print(icecream)"
   ]
  },
  {
   "cell_type": "code",
   "execution_count": 42,
   "metadata": {},
   "outputs": [
    {
     "data": {
      "text/plain": [
       "['아몬드봉봉', '엄마는외계인', '사랑에빠진딸기', '초코나무숲']"
      ]
     },
     "execution_count": 42,
     "metadata": {},
     "output_type": "execute_result"
    }
   ],
   "source": [
    "# 원소 삭제\n",
    "del icecream[0]\n",
    "icecream"
   ]
  },
  {
   "cell_type": "code",
   "execution_count": 46,
   "metadata": {},
   "outputs": [
    {
     "name": "stdout",
     "output_type": "stream",
     "text": [
      "['민트초코', '민트초코', '아몬드봉봉', '엄마는외계인', '사랑에빠진딸기', '초코나무숲']\n",
      "['민트초코', '민트초코', '아몬드봉봉', '엄마는외계인', '초코나무숲']\n",
      "['민트초코', '민트초코', '아몬드봉봉', '엄마는외계인', '초코나무숲', '슈팅스타']\n"
     ]
    }
   ],
   "source": [
    "# 인덱스로 원소 삽입\n",
    "\n",
    "icecream.insert(0,'민트초코')\n",
    "print(icecream)\n",
    "\n",
    "# 원소 삭제\n",
    "\n",
    "icecream.remove('사랑에빠진딸기')\n",
    "print(icecream)\n",
    "\n",
    "# 원소 추가\n",
    "\n",
    "icecream.append('슈팅스타')\n",
    "print(icecream)"
   ]
  },
  {
   "cell_type": "markdown",
   "metadata": {},
   "source": [
    "##### 리스트 정렬\n",
    "- sort : 오름차순 정렬\n",
    "- reverse : 내림차순 정렬"
   ]
  },
  {
   "cell_type": "code",
   "execution_count": 50,
   "metadata": {},
   "outputs": [
    {
     "name": "stdout",
     "output_type": "stream",
     "text": [
      "정렬 전 :  [6, 3, 178, 8, 3, 103, 93, 25]\n",
      "정렬 후 :  [3, 3, 6, 8, 25, 93, 103, 178]\n",
      "내림차순 정렬 :  [178, 103, 93, 25, 8, 6, 3, 3]\n"
     ]
    }
   ],
   "source": [
    "list1 = [6,3,178,8,3,103,93,25]\n",
    "print('정렬 전 : ',list1)\n",
    "list1.sort()\n",
    "print('정렬 후 : ',list1)\n",
    "list1.reverse()\n",
    "print('내림차순 정렬 : ',list1)"
   ]
  },
  {
   "cell_type": "code",
   "execution_count": 51,
   "metadata": {},
   "outputs": [
    {
     "name": "stdout",
     "output_type": "stream",
     "text": [
      "정렬 전 :  ['banana', 'watermelon', 'apple', 'plum', 'cherry']\n",
      "정렬 후 : ['apple', 'banana', 'cherry', 'plum', 'watermelon']\n",
      "내림차순 정렬 :  ['watermelon', 'plum', 'cherry', 'banana', 'apple']\n"
     ]
    }
   ],
   "source": [
    "list2 = ['banana','watermelon','apple','plum','cherry']\n",
    "print('정렬 전 : ',list2)\n",
    "list2.sort()\n",
    "print('정렬 후 :',list2)\n",
    "list2.reverse()\n",
    "print('내림차순 정렬 : ',list2)"
   ]
  },
  {
   "cell_type": "markdown",
   "metadata": {},
   "source": [
    "#### 2. 튜플\n",
    "- 값의 삭제, 수정이 불가능\n",
    "- () 로 생성"
   ]
  },
  {
   "cell_type": "code",
   "execution_count": 52,
   "metadata": {},
   "outputs": [
    {
     "name": "stdout",
     "output_type": "stream",
     "text": [
      "()\n",
      "(2,)\n",
      "(2, 3, 4)\n",
      "(1, 2, (2, 3, 4))\n"
     ]
    }
   ],
   "source": [
    "t1 = ()\n",
    "t2 = (2,)\n",
    "t3 = (2,3,4)\n",
    "t4 = (1,2,(2,3,4)) # 튜플은 튜플을 요소로 가질 수 있음\n",
    "\n",
    "print(t1)\n",
    "print(t2)\n",
    "print(t3)\n",
    "print(t4)"
   ]
  },
  {
   "cell_type": "code",
   "execution_count": 53,
   "metadata": {},
   "outputs": [
    {
     "ename": "TypeError",
     "evalue": "'tuple' object doesn't support item deletion",
     "output_type": "error",
     "traceback": [
      "\u001b[1;31m---------------------------------------------------------------------------\u001b[0m",
      "\u001b[1;31mTypeError\u001b[0m                                 Traceback (most recent call last)",
      "\u001b[1;32m<ipython-input-53-d85f7a88097a>\u001b[0m in \u001b[0;36m<module>\u001b[1;34m\u001b[0m\n\u001b[0;32m      1\u001b[0m \u001b[1;31m### 튜플은 수정과 삭제가 안됨\u001b[0m\u001b[1;33m\u001b[0m\u001b[1;33m\u001b[0m\u001b[1;33m\u001b[0m\u001b[0m\n\u001b[0;32m      2\u001b[0m \u001b[1;33m\u001b[0m\u001b[0m\n\u001b[1;32m----> 3\u001b[1;33m \u001b[1;32mdel\u001b[0m \u001b[0mt3\u001b[0m\u001b[1;33m[\u001b[0m\u001b[1;36m0\u001b[0m\u001b[1;33m]\u001b[0m\u001b[1;33m\u001b[0m\u001b[1;33m\u001b[0m\u001b[0m\n\u001b[0m",
      "\u001b[1;31mTypeError\u001b[0m: 'tuple' object doesn't support item deletion"
     ]
    }
   ],
   "source": [
    "### 튜플은 수정과 삭제가 안됨\n",
    "\n",
    "del t3[0]\n"
   ]
  },
  {
   "cell_type": "code",
   "execution_count": 54,
   "metadata": {},
   "outputs": [
    {
     "ename": "TypeError",
     "evalue": "'tuple' object does not support item assignment",
     "output_type": "error",
     "traceback": [
      "\u001b[1;31m---------------------------------------------------------------------------\u001b[0m",
      "\u001b[1;31mTypeError\u001b[0m                                 Traceback (most recent call last)",
      "\u001b[1;32m<ipython-input-54-1cd47d9c6348>\u001b[0m in \u001b[0;36m<module>\u001b[1;34m\u001b[0m\n\u001b[1;32m----> 1\u001b[1;33m \u001b[0mt3\u001b[0m\u001b[1;33m[\u001b[0m\u001b[1;36m0\u001b[0m\u001b[1;33m]\u001b[0m \u001b[1;33m=\u001b[0m \u001b[1;36m10\u001b[0m\u001b[1;33m\u001b[0m\u001b[1;33m\u001b[0m\u001b[0m\n\u001b[0m",
      "\u001b[1;31mTypeError\u001b[0m: 'tuple' object does not support item assignment"
     ]
    }
   ],
   "source": [
    "t3[0] = 10\n"
   ]
  },
  {
   "cell_type": "markdown",
   "metadata": {},
   "source": [
    "인덱싱은 리스트와 동일"
   ]
  },
  {
   "cell_type": "markdown",
   "metadata": {},
   "source": [
    "#### 3. 딕셔너리\n",
    "- {}를 이용하여 생성\n",
    "- key,value의 쌍으로 구성"
   ]
  },
  {
   "cell_type": "code",
   "execution_count": 55,
   "metadata": {},
   "outputs": [
    {
     "name": "stdout",
     "output_type": "stream",
     "text": [
      "{'사랑에빠진딸기': 5, '초코나무숲': 3, '민트초코': '싫어요'}\n"
     ]
    }
   ],
   "source": [
    "menu = {'사랑에빠진딸기' : 5, '초코나무숲' : 3, '민트초코' : '싫어요'}\n",
    "print(menu)"
   ]
  },
  {
   "cell_type": "code",
   "execution_count": 56,
   "metadata": {},
   "outputs": [
    {
     "name": "stdout",
     "output_type": "stream",
     "text": [
      "5\n",
      "싫어요\n"
     ]
    }
   ],
   "source": [
    "## dict[key] 입력시 value 반환\n",
    "\n",
    "print(menu['사랑에빠진딸기'])\n",
    "print(menu['민트초코'])"
   ]
  },
  {
   "cell_type": "code",
   "execution_count": 57,
   "metadata": {},
   "outputs": [
    {
     "data": {
      "text/plain": [
       "dict_keys(['사랑에빠진딸기', '초코나무숲', '민트초코'])"
      ]
     },
     "execution_count": 57,
     "metadata": {},
     "output_type": "execute_result"
    }
   ],
   "source": [
    "# key에 해당하는 값들만 불러오기\n",
    "menu.keys()"
   ]
  },
  {
   "cell_type": "code",
   "execution_count": 58,
   "metadata": {},
   "outputs": [
    {
     "data": {
      "text/plain": [
       "dict_values([5, 3, '싫어요'])"
      ]
     },
     "execution_count": 58,
     "metadata": {},
     "output_type": "execute_result"
    }
   ],
   "source": [
    "# value에 해당하는 값들만 불러오기\n",
    "menu.values()"
   ]
  },
  {
   "cell_type": "code",
   "execution_count": 59,
   "metadata": {},
   "outputs": [
    {
     "data": {
      "text/plain": [
       "dict_items([('사랑에빠진딸기', 5), ('초코나무숲', 3), ('민트초코', '싫어요')])"
      ]
     },
     "execution_count": 59,
     "metadata": {},
     "output_type": "execute_result"
    }
   ],
   "source": [
    "# (key,value) 쌍 불러오기\n",
    "menu.items()"
   ]
  },
  {
   "cell_type": "markdown",
   "metadata": {},
   "source": [
    "##### 딕셔너리의 수정"
   ]
  },
  {
   "cell_type": "code",
   "execution_count": 61,
   "metadata": {},
   "outputs": [
    {
     "name": "stdout",
     "output_type": "stream",
     "text": [
      "{'사랑에빠진딸기': 5, '초코나무숲': 3, '민트초코': '싫어요', '아몬드봉봉': 4, '체리쥬빌레': '불호'}\n"
     ]
    }
   ],
   "source": [
    "# 항목 추가\n",
    "# dict[key] = value로 추가\n",
    "\n",
    "menu['아몬드봉봉'] = 4\n",
    "menu['체리쥬빌레'] = '불호'\n",
    "\n",
    "print(menu)"
   ]
  },
  {
   "cell_type": "code",
   "execution_count": 62,
   "metadata": {},
   "outputs": [
    {
     "name": "stdout",
     "output_type": "stream",
     "text": [
      "{'사랑에빠진딸기': 5, '초코나무숲': 3, '민트초코': '나쁘지 않은걸요', '아몬드봉봉': 4, '체리쥬빌레': '불호'}\n"
     ]
    }
   ],
   "source": [
    "# 항목 변경\n",
    "\n",
    "menu['민트초코'] = '나쁘지 않은걸요'\n",
    "print(menu)"
   ]
  }
 ],
 "metadata": {
  "kernelspec": {
   "display_name": "Python 3",
   "language": "python",
   "name": "python3"
  },
  "language_info": {
   "codemirror_mode": {
    "name": "ipython",
    "version": 3
   },
   "file_extension": ".py",
   "mimetype": "text/x-python",
   "name": "python",
   "nbconvert_exporter": "python",
   "pygments_lexer": "ipython3",
   "version": "3.8.8"
  }
 },
 "nbformat": 4,
 "nbformat_minor": 2
}
