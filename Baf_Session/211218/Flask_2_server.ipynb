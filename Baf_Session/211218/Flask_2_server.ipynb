{
 "cells": [
  {
   "cell_type": "code",
   "execution_count": 1,
   "id": "fec5332c",
   "metadata": {},
   "outputs": [],
   "source": [
    "# pip install flask"
   ]
  },
  {
   "cell_type": "code",
   "execution_count": 15,
   "id": "956e77b2",
   "metadata": {},
   "outputs": [],
   "source": [
    "# Import libraries\n",
    "import numpy as np\n",
    "from flask import Flask, request, jsonify\n",
    "import joblib"
   ]
  },
  {
   "cell_type": "code",
   "execution_count": null,
   "id": "d7dac1f8",
   "metadata": {},
   "outputs": [],
   "source": []
  },
  {
   "cell_type": "code",
   "execution_count": 29,
   "id": "bcf46de2",
   "metadata": {},
   "outputs": [
    {
     "name": "stdout",
     "output_type": "stream",
     "text": [
      " * Serving Flask app \"__main__\" (lazy loading)\n",
      " * Environment: production\n",
      "   WARNING: This is a development server. Do not use it in a production deployment.\n",
      "   Use a production WSGI server instead.\n",
      " * Debug mode: on\n"
     ]
    },
    {
     "name": "stderr",
     "output_type": "stream",
     "text": [
      " * Running on http://127.0.0.1:5000/ (Press CTRL+C to quit)\n",
      "127.0.0.1 - - [17/Dec/2021 11:44:03] \"\u001b[37mGET /hello HTTP/1.1\u001b[0m\" 200 -\n"
     ]
    }
   ],
   "source": [
    "# 써놓은거 그대로 가져오기\n",
    "app = Flask(__name__)\n",
    "\n",
    "# Post : 요소 추가\n",
    "# Get : 요소 검색\n",
    "# Delete : 요소 삭제\n",
    "@app.route('/hello',methods=['GET'])\n",
    "\n",
    "def sayhello():\n",
    "    info = {'학교': '동국대학교', '학과':'통계학과'}\n",
    "    return jsonify(info)\n",
    "\n",
    "if __name__ == '__main__':\n",
    "    app.run(port=5000, debug=True, use_reloader=False)"
   ]
  },
  {
   "cell_type": "code",
   "execution_count": null,
   "id": "42779080",
   "metadata": {},
   "outputs": [],
   "source": []
  },
  {
   "cell_type": "code",
   "execution_count": 30,
   "id": "afdab460",
   "metadata": {},
   "outputs": [
    {
     "name": "stdout",
     "output_type": "stream",
     "text": [
      " * Serving Flask app \"__main__\" (lazy loading)\n",
      " * Environment: production\n",
      "   WARNING: This is a development server. Do not use it in a production deployment.\n",
      "   Use a production WSGI server instead.\n",
      " * Debug mode: on\n"
     ]
    },
    {
     "name": "stderr",
     "output_type": "stream",
     "text": [
      " * Running on http://127.0.0.1:5000/ (Press CTRL+C to quit)\n",
      "127.0.0.1 - - [17/Dec/2021 11:44:15] \"\u001b[31m\u001b[1mGET /Pythagoras HTTP/1.1\u001b[0m\" 400 -\n",
      "127.0.0.1 - - [17/Dec/2021 11:44:17] \"\u001b[37mGET /Pythagoras HTTP/1.1\u001b[0m\" 200 -\n",
      "127.0.0.1 - - [17/Dec/2021 11:44:33] \"\u001b[33mGET /modelapi HTTP/1.1\u001b[0m\" 404 -\n"
     ]
    }
   ],
   "source": [
    "# 가벼운 연산 요청\n",
    "app = Flask(__name__)\n",
    "\n",
    "@app.route('/Pythagoras',methods=['GET'])\n",
    "\n",
    "def pythagoras():\n",
    "    data = request.get_json(force=True)\n",
    "    output = (int(data['A']))**2 + (int(data['B']))**2\n",
    "    output = output**0.5\n",
    "    return jsonify(output)\n",
    "#     return jsonify({'짧은변1':data['A'], '짧은변2':data['B'], '긴변':round(output)})\n",
    "\n",
    "if __name__ == '__main__':\n",
    "    app.run(port=5000, debug=True, use_reloader=False)"
   ]
  },
  {
   "cell_type": "code",
   "execution_count": null,
   "id": "bb4fe94a",
   "metadata": {},
   "outputs": [],
   "source": []
  },
  {
   "cell_type": "code",
   "execution_count": 31,
   "id": "eaa12197",
   "metadata": {},
   "outputs": [],
   "source": [
    "model = joblib.load('rf_model.pkl')"
   ]
  },
  {
   "cell_type": "code",
   "execution_count": 32,
   "id": "6703c4b0",
   "metadata": {},
   "outputs": [
    {
     "data": {
      "text/plain": [
       "array([5], dtype=int64)"
      ]
     },
     "execution_count": 32,
     "metadata": {},
     "output_type": "execute_result"
    }
   ],
   "source": [
    "# 이렇게 가져오는 것 보다는\n",
    "model.predict([[3, 9, 0.9950, 0.6]])"
   ]
  },
  {
   "cell_type": "code",
   "execution_count": 33,
   "id": "c02832ab",
   "metadata": {},
   "outputs": [
    {
     "data": {
      "text/plain": [
       "5"
      ]
     },
     "execution_count": 33,
     "metadata": {},
     "output_type": "execute_result"
    }
   ],
   "source": [
    "# 이렇게 가져옵시다\n",
    "model.predict([[3, 9, 0.9950, 0.6]])[0]"
   ]
  },
  {
   "cell_type": "code",
   "execution_count": 39,
   "id": "52ad49ca",
   "metadata": {},
   "outputs": [
    {
     "name": "stdout",
     "output_type": "stream",
     "text": [
      " * Serving Flask app \"__main__\" (lazy loading)\n",
      " * Environment: production\n",
      "   WARNING: This is a development server. Do not use it in a production deployment.\n",
      "   Use a production WSGI server instead.\n",
      " * Debug mode: on\n"
     ]
    },
    {
     "name": "stderr",
     "output_type": "stream",
     "text": [
      " * Running on http://127.0.0.1:5000/ (Press CTRL+C to quit)\n",
      "127.0.0.1 - - [17/Dec/2021 11:45:44] \"\u001b[37mGET /modelapi HTTP/1.1\u001b[0m\" 200 -\n"
     ]
    }
   ],
   "source": [
    "# 모델 활용하는 서버\n",
    "app = Flask(__name__)\n",
    "\n",
    "# 가벼운 연산은 안에서 할 수 있는데 모델은 쉽지 않음,,,\n",
    "@app.route('/modelapi',methods=['GET'])\n",
    "\n",
    "def predict():\n",
    "    data = request.get_json(force=True)\n",
    "    prediction = model.predict([[data['pH'], data['alcohol'], data['density'], data['sulphates']]])\n",
    "    output = prediction[0]\n",
    "    return jsonify(output)\n",
    "#     return jsonify(int(output))\n",
    "\n",
    "if __name__ == '__main__':\n",
    "    app.run(port=5000, debug=True, use_reloader=False)"
   ]
  },
  {
   "cell_type": "code",
   "execution_count": null,
   "id": "f746e631",
   "metadata": {},
   "outputs": [],
   "source": []
  },
  {
   "cell_type": "code",
   "execution_count": null,
   "id": "e34d21d6",
   "metadata": {},
   "outputs": [],
   "source": []
  },
  {
   "cell_type": "code",
   "execution_count": null,
   "id": "bd31b143",
   "metadata": {},
   "outputs": [],
   "source": []
  },
  {
   "cell_type": "code",
   "execution_count": 41,
   "id": "948f4889",
   "metadata": {},
   "outputs": [
    {
     "name": "stdout",
     "output_type": "stream",
     "text": [
      " * Serving Flask app \"__main__\" (lazy loading)\n",
      " * Environment: production\n",
      "   WARNING: This is a development server. Do not use it in a production deployment.\n",
      "   Use a production WSGI server instead.\n",
      " * Debug mode: on\n"
     ]
    },
    {
     "name": "stderr",
     "output_type": "stream",
     "text": [
      " * Running on http://127.0.0.1:5000/ (Press CTRL+C to quit)\n",
      "127.0.0.1 - - [17/Dec/2021 11:49:29] \"\u001b[37mGET /hello HTTP/1.1\u001b[0m\" 200 -\n",
      "127.0.0.1 - - [17/Dec/2021 11:49:31] \"\u001b[37mGET /hello HTTP/1.1\u001b[0m\" 200 -\n",
      "127.0.0.1 - - [17/Dec/2021 11:49:34] \"\u001b[31m\u001b[1mGET /Pythagoras HTTP/1.1\u001b[0m\" 400 -\n",
      "127.0.0.1 - - [17/Dec/2021 11:49:37] \"\u001b[37mGET /Pythagoras HTTP/1.1\u001b[0m\" 200 -\n",
      "127.0.0.1 - - [17/Dec/2021 11:49:42] \"\u001b[37mGET /modelapi HTTP/1.1\u001b[0m\" 200 -\n"
     ]
    }
   ],
   "source": [
    "# 모두 한 셀에 모아보면\n",
    "\n",
    "app = Flask(__name__)\n",
    "\n",
    "@app.route('/hello',methods=['GET'])\n",
    "\n",
    "def sayhello():\n",
    "    info = {'학교': '동국대학교', '학과':'통계학과'}\n",
    "    return jsonify(info)\n",
    "    \n",
    "    \n",
    "@app.route('/Pythagoras',methods=['GET'])\n",
    "\n",
    "def pythagoras():\n",
    "    data = request.get_json(force=True)\n",
    "    output = (int(data['A']))**2 + (int(data['B']))**2\n",
    "    output = output**0.5\n",
    "    return jsonify({'짧은변1':data['A'], '짧은변2':data['B'], '긴변':round(output)})\n",
    "    \n",
    "    \n",
    "@app.route('/modelapi',methods=['GET'])\n",
    "\n",
    "def predict():\n",
    "    data = request.get_json(force=True)\n",
    "    prediction = model.predict([[data['pH'], data['alcohol'], data['density'], data['sulphates']]])\n",
    "    output = prediction[0]\n",
    "    return jsonify(int(output))\n",
    "\n",
    "if __name__ == '__main__':\n",
    "    app.run(port=5000, debug=True, use_reloader=False)"
   ]
  }
 ],
 "metadata": {
  "kernelspec": {
   "display_name": "Python 3",
   "language": "python",
   "name": "python3"
  },
  "language_info": {
   "codemirror_mode": {
    "name": "ipython",
    "version": 3
   },
   "file_extension": ".py",
   "mimetype": "text/x-python",
   "name": "python",
   "nbconvert_exporter": "python",
   "pygments_lexer": "ipython3",
   "version": "3.8.8"
  }
 },
 "nbformat": 4,
 "nbformat_minor": 5
}
