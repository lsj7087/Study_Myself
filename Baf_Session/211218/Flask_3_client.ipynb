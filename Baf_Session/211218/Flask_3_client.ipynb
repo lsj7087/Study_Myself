{
 "cells": [
  {
   "cell_type": "code",
   "execution_count": 72,
   "id": "b8ed427a",
   "metadata": {},
   "outputs": [
    {
     "data": {
      "text/plain": [
       "<Response [200]>"
      ]
     },
     "execution_count": 72,
     "metadata": {},
     "output_type": "execute_result"
    }
   ],
   "source": [
    "import requests\n",
    "url = 'http://localhost:5000/hello'\n",
    "r1 = requests.get(url)\n",
    "r1"
   ]
  },
  {
   "cell_type": "code",
   "execution_count": 73,
   "id": "05c543d8",
   "metadata": {},
   "outputs": [
    {
     "name": "stdout",
     "output_type": "stream",
     "text": [
      "{'학과': '통계학과', '학교': '동국대학교'}\n"
     ]
    }
   ],
   "source": [
    "print(r1.json())"
   ]
  },
  {
   "cell_type": "code",
   "execution_count": null,
   "id": "35026444",
   "metadata": {},
   "outputs": [],
   "source": []
  },
  {
   "cell_type": "code",
   "execution_count": 74,
   "id": "487ba512",
   "metadata": {},
   "outputs": [
    {
     "data": {
      "text/plain": [
       "<Response [400]>"
      ]
     },
     "execution_count": 74,
     "metadata": {},
     "output_type": "execute_result"
    }
   ],
   "source": [
    "url = 'http://localhost:5000/Pythagoras'\n",
    "r2 = requests.get(url)\n",
    "r2"
   ]
  },
  {
   "cell_type": "code",
   "execution_count": 75,
   "id": "c3ef61c8",
   "metadata": {},
   "outputs": [
    {
     "data": {
      "text/plain": [
       "<Response [200]>"
      ]
     },
     "execution_count": 75,
     "metadata": {},
     "output_type": "execute_result"
    }
   ],
   "source": [
    "url = 'http://localhost:5000/Pythagoras'\n",
    "r2 = requests.get(url,json={'A':3, 'B':4})\n",
    "r2"
   ]
  },
  {
   "cell_type": "code",
   "execution_count": 76,
   "id": "d4ed2ecd",
   "metadata": {},
   "outputs": [
    {
     "name": "stdout",
     "output_type": "stream",
     "text": [
      "{'긴변': 5, '짧은변1': 3, '짧은변2': 4}\n"
     ]
    }
   ],
   "source": [
    "print(r2.json())"
   ]
  },
  {
   "cell_type": "code",
   "execution_count": null,
   "id": "a56fe8d6",
   "metadata": {},
   "outputs": [],
   "source": []
  },
  {
   "cell_type": "code",
   "execution_count": 77,
   "id": "caccf83a",
   "metadata": {},
   "outputs": [
    {
     "data": {
      "text/plain": [
       "<Response [200]>"
      ]
     },
     "execution_count": 77,
     "metadata": {},
     "output_type": "execute_result"
    }
   ],
   "source": [
    "url = 'http://localhost:5000/modelapi'\n",
    "r3 = requests.get(url,json={'pH':3, 'alcohol':9, 'density':0.9950, 'sulphates':0.6})\n",
    "r3"
   ]
  },
  {
   "cell_type": "code",
   "execution_count": 78,
   "id": "b0b87041",
   "metadata": {},
   "outputs": [
    {
     "name": "stdout",
     "output_type": "stream",
     "text": [
      "5\n"
     ]
    }
   ],
   "source": [
    "print(r3.json())"
   ]
  },
  {
   "cell_type": "code",
   "execution_count": null,
   "id": "21c04f50",
   "metadata": {},
   "outputs": [],
   "source": []
  }
 ],
 "metadata": {
  "kernelspec": {
   "display_name": "Python 3",
   "language": "python",
   "name": "python3"
  },
  "language_info": {
   "codemirror_mode": {
    "name": "ipython",
    "version": 3
   },
   "file_extension": ".py",
   "mimetype": "text/x-python",
   "name": "python",
   "nbconvert_exporter": "python",
   "pygments_lexer": "ipython3",
   "version": "3.8.8"
  }
 },
 "nbformat": 4,
 "nbformat_minor": 5
}
