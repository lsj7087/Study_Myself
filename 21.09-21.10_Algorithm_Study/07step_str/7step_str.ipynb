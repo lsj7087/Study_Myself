{
 "cells": [
  {
   "cell_type": "code",
   "execution_count": 5,
   "id": "4061c132",
   "metadata": {},
   "outputs": [
    {
     "name": "stdout",
     "output_type": "stream",
     "text": [
      "4\n",
      "52\n"
     ]
    }
   ],
   "source": [
    "#아스키 코드\n",
    "x = input()\n",
    "print(ord(x))"
   ]
  },
  {
   "cell_type": "code",
   "execution_count": 7,
   "id": "85672faf",
   "metadata": {},
   "outputs": [
    {
     "name": "stdout",
     "output_type": "stream",
     "text": [
      "25\n",
      "7000000000000000000000000\n"
     ]
    }
   ],
   "source": [
    "#숫자의 합\n",
    "n = int(input())\n",
    "x = input()\n",
    "sum = 0\n",
    "for i in x:\n",
    "    sum += int(i)\n",
    "print(sum)"
   ]
  },
  {
   "cell_type": "code",
   "execution_count": 16,
   "id": "9c12998f",
   "metadata": {},
   "outputs": [
    {
     "name": "stdout",
     "output_type": "stream",
     "text": [
      "baekjoon\n",
      "1 0 -1 -1 2 -1 -1 -1 -1 4 3 -1 -1 7 5 -1 -1 -1 -1 -1 -1 -1 -1 -1 -1 -1 "
     ]
    }
   ],
   "source": [
    "#알파벳 찾기\n",
    "s = input()\n",
    "for i in range(97,123):\n",
    "    if chr(i) in s:\n",
    "        print(s.index(chr(i)), end= ' ')\n",
    "    else:\n",
    "        print(-1, end = ' ')"
   ]
  },
  {
   "cell_type": "code",
   "execution_count": 25,
   "id": "71817f0a",
   "metadata": {
    "scrolled": true
   },
   "outputs": [
    {
     "name": "stdout",
     "output_type": "stream",
     "text": [
      "2\n",
      "3 ABC\n",
      "AAABBBCCC\n",
      "5 /HTP\n",
      "/////HHHHHTTTTTPPPPP\n"
     ]
    }
   ],
   "source": [
    "#문자열 반복\n",
    "t = int(input())\n",
    "for i in range(t):\n",
    "    result = \"\"\n",
    "    rec_str = list(map(str, input().split()))\n",
    "    n = int(rec_str[0])\n",
    "    rep_str =rec_str[1]\n",
    "    for k in rep_str:\n",
    "        for j in range(n):\n",
    "            result += k\n",
    "    print(result)"
   ]
  },
  {
   "cell_type": "code",
   "execution_count": 20,
   "id": "44018b18",
   "metadata": {},
   "outputs": [
    {
     "name": "stdout",
     "output_type": "stream",
     "text": [
      "sdsd\n",
      "?\n"
     ]
    }
   ],
   "source": [
    "#단어 공부\n",
    "str_a = input().upper()\n",
    "dict_a = {}\n",
    "for i in str_a:\n",
    "    dict_a[i] = str_a.count(i)\n",
    "    \n",
    "ma = list(dict_a.values())\n",
    "mma = max(ma)\n",
    "if ma.count(mma) > 1:\n",
    "    print('?')\n",
    "else:\n",
    "    for key in dict_a.keys():\n",
    "        if dict_a[key] == mma:\n",
    "            print(key)\n",
    "##시간초과"
   ]
  },
  {
   "cell_type": "code",
   "execution_count": 22,
   "id": "61926fca",
   "metadata": {},
   "outputs": [
    {
     "name": "stdout",
     "output_type": "stream",
     "text": [
      "Mississipi\n",
      "?\n"
     ]
    }
   ],
   "source": [
    "#단어 공부\n",
    "str_a = input().upper()\n",
    "list_a=list(set(str_a))\n",
    "counts = []\n",
    "\n",
    "for i in list_a:\n",
    "    counts.append(str_a.count(i))\n",
    "\n",
    "if counts.count(max(counts)) > 1:\n",
    "    print(\"?\")\n",
    "else:\n",
    "    print(list_a[counts.index(max(counts))])\n",
    "\n",
    "##시간초과 해결"
   ]
  },
  {
   "cell_type": "code",
   "execution_count": 55,
   "id": "28c0385b",
   "metadata": {
    "scrolled": true
   },
   "outputs": [
    {
     "name": "stdout",
     "output_type": "stream",
     "text": [
      "The last character is a blank \n",
      "6\n"
     ]
    }
   ],
   "source": [
    "#단어의 개수\n",
    "x = list(input().split())\n",
    "print(len(x))"
   ]
  },
  {
   "cell_type": "code",
   "execution_count": 84,
   "id": "db2a27f3",
   "metadata": {},
   "outputs": [
    {
     "name": "stdout",
     "output_type": "stream",
     "text": [
      "734 893\n",
      "437\n"
     ]
    }
   ],
   "source": [
    "#상수\n",
    "a,b = input().split()\n",
    "a1 = ''\n",
    "b1 = ''\n",
    "for i in range(1,4):\n",
    "    a1 += a[-i]\n",
    "    b1 += b[-i]\n",
    "\n",
    "for j in range(3):\n",
    "    if a1[j] > b1[j]:\n",
    "        print(a1)\n",
    "        break\n",
    "    elif a1[j] < b1[j]:\n",
    "        print(b1)\n",
    "        break\n",
    "    else:\n",
    "        continue"
   ]
  },
  {
   "cell_type": "code",
   "execution_count": 87,
   "id": "ec4866ba",
   "metadata": {},
   "outputs": [
    {
     "name": "stdout",
     "output_type": "stream",
     "text": [
      "UNUCIC\n",
      "36\n"
     ]
    }
   ],
   "source": [
    "#다이얼\n",
    "str_result = input()\n",
    "num_result = 0\n",
    "list_abc = [\"ABC\",\"DEF\",\"GHI\",\"JKL\",\"MNO\",\"PQRS\",\"TUV\",\"WXYZ\"]\n",
    "for i in str_result:\n",
    "    for j in range(len(list_abc)):\n",
    "        if i in list_abc[j]:\n",
    "            num_result += j+3\n",
    "print(num_result)"
   ]
  },
  {
   "cell_type": "code",
   "execution_count": 89,
   "id": "53f8eb66",
   "metadata": {},
   "outputs": [
    {
     "name": "stdout",
     "output_type": "stream",
     "text": [
      "ljes=njak\n",
      "2\n"
     ]
    }
   ],
   "source": [
    "#크로아티아 알파벳\n",
    "x = input()\n",
    "vs = [\"c=\",\"c-\",\"dz=\",\"d-\",\"lj\",\"nj\",\"s=\",\"z=\"]\n",
    "str_result = \"\"\n",
    "sum = 0\n",
    "\n",
    "for i in x:\n",
    "    if str_result in vs:\n",
    "        str_result = \"\"\n",
    "        sum += 1\n",
    "    else:\n",
    "        str_result += i\n",
    "print(sum)"
   ]
  },
  {
   "cell_type": "code",
   "execution_count": 115,
   "id": "ccbbeeef",
   "metadata": {},
   "outputs": [
    {
     "name": "stdout",
     "output_type": "stream",
     "text": [
      "dz=ak\n",
      "3\n"
     ]
    }
   ],
   "source": [
    "#크로아티아 알파벳\n",
    "x = input()\n",
    "vs = [\"c=\",\"c-\",\"dz=\",\"d-\",\"lj\",\"nj\",\"s=\",\"z=\"]\n",
    "str_result = \"\"\n",
    "sum = 0\n",
    "\n",
    "for i in vs:\n",
    "    if i in x:\n",
    "        sum+= x.count(i)\n",
    "        x = x.replace(i,\" \")\n",
    "\n",
    "\n",
    "sum += len(x.replace(\" \",\"\"))\n",
    "    \n",
    "    \n",
    "print(sum)\n",
    "#ㅈ같은 코드구만"
   ]
  },
  {
   "cell_type": "code",
   "execution_count": 131,
   "id": "8d6305bf",
   "metadata": {},
   "outputs": [
    {
     "name": "stdout",
     "output_type": "stream",
     "text": [
      "3\n",
      "happy\n",
      "new\n",
      "year\n",
      "3\n"
     ]
    }
   ],
   "source": [
    "#그룹 단어 체커\n",
    "n = int(input())\n",
    "sum = 0\n",
    "for q in range(n):\n",
    "    x = input()\n",
    "    list_x = [k for k in x]\n",
    "    count = 0\n",
    "    for i in range(1,len(list_x)):\n",
    "        if list_x[i] != list_x[i-1]: \n",
    "            if list_x[i] in list_x[:i-1]:\n",
    "                count += 1\n",
    "            \n",
    "    if count == 0:\n",
    "        sum += 1\n",
    "print(sum)"
   ]
  }
 ],
 "metadata": {
  "kernelspec": {
   "display_name": "Python 3",
   "language": "python",
   "name": "python3"
  },
  "language_info": {
   "codemirror_mode": {
    "name": "ipython",
    "version": 3
   },
   "file_extension": ".py",
   "mimetype": "text/x-python",
   "name": "python",
   "nbconvert_exporter": "python",
   "pygments_lexer": "ipython3",
   "version": "3.8.8"
  }
 },
 "nbformat": 4,
 "nbformat_minor": 5
}
