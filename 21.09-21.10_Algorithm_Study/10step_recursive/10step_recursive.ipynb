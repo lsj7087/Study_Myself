{
 "cells": [
  {
   "cell_type": "code",
   "execution_count": 1,
   "id": "83513a5f",
   "metadata": {},
   "outputs": [
    {
     "name": "stdout",
     "output_type": "stream",
     "text": [
      "\n"
     ]
    },
    {
     "ename": "ValueError",
     "evalue": "invalid literal for int() with base 10: ''",
     "output_type": "error",
     "traceback": [
      "\u001b[1;31m---------------------------------------------------------------------------\u001b[0m",
      "\u001b[1;31mValueError\u001b[0m                                Traceback (most recent call last)",
      "\u001b[1;32m<ipython-input-1-49983d448145>\u001b[0m in \u001b[0;36m<module>\u001b[1;34m\u001b[0m\n\u001b[0;32m      1\u001b[0m \u001b[1;31m#팩토리얼\u001b[0m\u001b[1;33m\u001b[0m\u001b[1;33m\u001b[0m\u001b[1;33m\u001b[0m\u001b[0m\n\u001b[1;32m----> 2\u001b[1;33m \u001b[0mn\u001b[0m\u001b[1;33m=\u001b[0m\u001b[0mint\u001b[0m\u001b[1;33m(\u001b[0m\u001b[0minput\u001b[0m\u001b[1;33m(\u001b[0m\u001b[1;34m\"\"\u001b[0m\u001b[1;33m)\u001b[0m\u001b[1;33m)\u001b[0m\u001b[1;33m\u001b[0m\u001b[1;33m\u001b[0m\u001b[0m\n\u001b[0m\u001b[0;32m      3\u001b[0m \u001b[0mresult\u001b[0m \u001b[1;33m=\u001b[0m \u001b[1;36m1\u001b[0m\u001b[1;33m\u001b[0m\u001b[1;33m\u001b[0m\u001b[0m\n\u001b[0;32m      4\u001b[0m \u001b[1;32mfor\u001b[0m \u001b[0mi\u001b[0m \u001b[1;32min\u001b[0m \u001b[0mrange\u001b[0m\u001b[1;33m(\u001b[0m\u001b[1;36m1\u001b[0m\u001b[1;33m,\u001b[0m\u001b[0mn\u001b[0m\u001b[1;33m+\u001b[0m\u001b[1;36m1\u001b[0m\u001b[1;33m)\u001b[0m\u001b[1;33m:\u001b[0m\u001b[1;33m\u001b[0m\u001b[1;33m\u001b[0m\u001b[0m\n\u001b[0;32m      5\u001b[0m     \u001b[0mresult\u001b[0m \u001b[1;33m*=\u001b[0m \u001b[0mi\u001b[0m\u001b[1;33m\u001b[0m\u001b[1;33m\u001b[0m\u001b[0m\n",
      "\u001b[1;31mValueError\u001b[0m: invalid literal for int() with base 10: ''"
     ]
    }
   ],
   "source": [
    "#팩토리얼\n",
    "n=int(input(\"\"))\n",
    "result = 1\n",
    "for i in range(1,n+1):\n",
    "    result *= i\n",
    "print(result)"
   ]
  },
  {
   "cell_type": "code",
   "execution_count": 10,
   "id": "333075eb",
   "metadata": {},
   "outputs": [
    {
     "name": "stdout",
     "output_type": "stream",
     "text": [
      "10\n",
      "55\n"
     ]
    }
   ],
   "source": [
    "#피보나치 수 5\n",
    "n=int(input())\n",
    "a = 0\n",
    "b = 1\n",
    "sum = 0\n",
    "if n == 0:\n",
    "    sum = 0\n",
    "elif n == 1:\n",
    "    sum = 1\n",
    "else:\n",
    "    for i in range(n-1):\n",
    "        sum = a + b\n",
    "        a = b\n",
    "        b= sum\n",
    "print(sum)"
   ]
  },
  {
   "cell_type": "code",
   "execution_count": 4,
   "id": "eef57719",
   "metadata": {},
   "outputs": [
    {
     "name": "stdout",
     "output_type": "stream",
     "text": [
      "27\n",
      "3\n"
     ]
    }
   ],
   "source": [
    "#별 찍기 - 10\n",
    "n = int(int(input())**(1/3))\n"
   ]
  },
  {
   "cell_type": "code",
   "execution_count": 5,
   "id": "bea24662",
   "metadata": {},
   "outputs": [
    {
     "name": "stdout",
     "output_type": "stream",
     "text": [
      "***\n",
      "* *\n",
      "***\n"
     ]
    }
   ],
   "source": [
    "## 존나 어렵네\n",
    "for k in range(1,3+1):\n",
    "    a = ''\n",
    "    if k == round(3-1/2):\n",
    "        for i in range(1,3+1):\n",
    "            if i == round(3-1/2):\n",
    "                a += \" \"\n",
    "            else:\n",
    "                a += '*'\n",
    "    else:\n",
    "        for i in range(1,3+1):        \n",
    "            a += '*'\n",
    "    print(a)\n",
    "    \n",
    "result = "
   ]
  },
  {
   "cell_type": "code",
   "execution_count": 14,
   "id": "5f4b0043",
   "metadata": {},
   "outputs": [
    {
     "name": "stdout",
     "output_type": "stream",
     "text": [
      "27\n",
      "***************************\n",
      "* ** ** ** ** ** ** ** ** *\n",
      "***************************\n",
      "***   ******   ******   ***\n",
      "* *   * ** *   * ** *   * *\n",
      "***   ******   ******   ***\n",
      "***************************\n",
      "* ** ** ** ** ** ** ** ** *\n",
      "***************************\n",
      "*********         *********\n",
      "* ** ** *         * ** ** *\n",
      "*********         *********\n",
      "***   ***         ***   ***\n",
      "* *   * *         * *   * *\n",
      "***   ***         ***   ***\n",
      "*********         *********\n",
      "* ** ** *         * ** ** *\n",
      "*********         *********\n",
      "***************************\n",
      "* ** ** ** ** ** ** ** ** *\n",
      "***************************\n",
      "***   ******   ******   ***\n",
      "* *   * ** *   * ** *   * *\n",
      "***   ******   ******   ***\n",
      "***************************\n",
      "* ** ** ** ** ** ** ** ** *\n",
      "***************************\n"
     ]
    }
   ],
   "source": [
    "#정답\n",
    "def append_star(LEN): \n",
    "    if LEN == 1: \n",
    "        return ['*'] \n",
    "    \n",
    "    Stars = append_star(LEN//3)\n",
    "    L = [] \n",
    "    for S in Stars:\n",
    "        L.append(S*3) \n",
    "    for S in Stars:\n",
    "        L.append(S+' '*(LEN//3)+S) \n",
    "    for S in Stars:\n",
    "        L.append(S*3) \n",
    "    return L\n",
    "\n",
    "n = int(input())\n",
    "\n",
    "print('\\n'.join(append_star(n)))"
   ]
  },
  {
   "cell_type": "code",
   "execution_count": 5,
   "id": "7c42cc82",
   "metadata": {},
   "outputs": [],
   "source": [
    "a = ['a','b','c']"
   ]
  },
  {
   "cell_type": "code",
   "execution_count": 10,
   "id": "42fe8e49",
   "metadata": {},
   "outputs": [
    {
     "name": "stdout",
     "output_type": "stream",
     "text": [
      "a얀냔b얀냔c\n"
     ]
    }
   ],
   "source": [
    "print('얀냔'.join(a))"
   ]
  },
  {
   "cell_type": "code",
   "execution_count": null,
   "id": "ef3f0ce9",
   "metadata": {},
   "outputs": [],
   "source": [
    "'\\n'.join(a)"
   ]
  },
  {
   "cell_type": "code",
   "execution_count": null,
   "id": "568a3fcc",
   "metadata": {},
   "outputs": [],
   "source": []
  },
  {
   "cell_type": "code",
   "execution_count": null,
   "id": "b2844f19",
   "metadata": {},
   "outputs": [],
   "source": []
  },
  {
   "cell_type": "code",
   "execution_count": 12,
   "id": "df08065c",
   "metadata": {},
   "outputs": [
    {
     "name": "stdout",
     "output_type": "stream",
     "text": [
      "3\n",
      "7\n",
      "1 3\n",
      "1 2\n",
      "3 2\n",
      "1 3\n",
      "2 1\n",
      "2 3\n",
      "1 3\n"
     ]
    }
   ],
   "source": [
    "n = int(input())\n",
    "def hanoi(n, a, b, c):\n",
    "    if n == 1:\n",
    "        print(a, c)\n",
    "    else:\n",
    "        hanoi(n - 1, a, c, b)\n",
    "        print(a, c)\n",
    "        hanoi(n - 1, b, a, c)\n",
    "sum = 1\n",
    "for i in range(n - 1):\n",
    "    sum = sum * 2 + 1\n",
    "print(sum)\n",
    "hanoi(n, 1, 2, 3)"
   ]
  },
  {
   "cell_type": "code",
   "execution_count": 51,
   "id": "04d2a1f6",
   "metadata": {},
   "outputs": [
    {
     "name": "stdout",
     "output_type": "stream",
     "text": [
      "3\n"
     ]
    },
    {
     "ename": "KeyboardInterrupt",
     "evalue": "",
     "output_type": "error",
     "traceback": [
      "\u001b[1;31m---------------------------------------------------------------------------\u001b[0m",
      "\u001b[1;31mKeyboardInterrupt\u001b[0m                         Traceback (most recent call last)",
      "\u001b[1;32m<ipython-input-51-1569965299d0>\u001b[0m in \u001b[0;36m<module>\u001b[1;34m\u001b[0m\n\u001b[0;32m     20\u001b[0m             \u001b[0mcount\u001b[0m \u001b[1;33m+=\u001b[0m \u001b[1;36m1\u001b[0m\u001b[1;33m\u001b[0m\u001b[1;33m\u001b[0m\u001b[0m\n\u001b[0;32m     21\u001b[0m         \u001b[1;32melif\u001b[0m \u001b[0mmin\u001b[0m\u001b[1;33m(\u001b[0m\u001b[0mb\u001b[0m\u001b[1;33m)\u001b[0m \u001b[1;33m>\u001b[0m \u001b[0mmin\u001b[0m\u001b[1;33m(\u001b[0m\u001b[0mc\u001b[0m\u001b[1;33m)\u001b[0m\u001b[1;33m:\u001b[0m\u001b[1;33m\u001b[0m\u001b[1;33m\u001b[0m\u001b[0m\n\u001b[1;32m---> 22\u001b[1;33m             \u001b[0mk\u001b[0m \u001b[1;33m=\u001b[0m \u001b[0mmin\u001b[0m\u001b[1;33m(\u001b[0m\u001b[0mc\u001b[0m\u001b[1;33m)\u001b[0m\u001b[1;33m\u001b[0m\u001b[1;33m\u001b[0m\u001b[0m\n\u001b[0m\u001b[0;32m     23\u001b[0m             \u001b[0mc\u001b[0m\u001b[1;33m.\u001b[0m\u001b[0mremove\u001b[0m\u001b[1;33m(\u001b[0m\u001b[0mk\u001b[0m\u001b[1;33m)\u001b[0m\u001b[1;33m\u001b[0m\u001b[1;33m\u001b[0m\u001b[0m\n\u001b[0;32m     24\u001b[0m             \u001b[0mb\u001b[0m\u001b[1;33m.\u001b[0m\u001b[0mappend\u001b[0m\u001b[1;33m(\u001b[0m\u001b[0mk\u001b[0m\u001b[1;33m)\u001b[0m\u001b[1;33m\u001b[0m\u001b[1;33m\u001b[0m\u001b[0m\n",
      "\u001b[1;31mKeyboardInterrupt\u001b[0m: "
     ]
    }
   ],
   "source": [
    "#하노이 탑 이동 순서\n",
    "n= int(input())\n",
    "a = [i for i in range(1,n+1)]\n",
    "b = []\n",
    "c = []\n",
    "count = 0\n",
    "result = []\n",
    "what = ''\n",
    "while True:\n",
    "    if len(a) == 0 and len(b) ==0:\n",
    "        print(count)\n",
    "        for q in result:\n",
    "            print(q)\n",
    "        break\n",
    "        \n",
    "        \n",
    "    if len(b) == 0 and len(c) ==0:\n",
    "        if len(a)%2 == 0:\n",
    "            k = min(a)\n",
    "                a.remove(k)\n",
    "                b.append(k)\n",
    "                result.append(\"1 2\")\n",
    "                count += 1\n",
    "                what = 'b'\n",
    "        elif len(a)%2 == 1:\n",
    "                k = min(a)\n",
    "                a.remove(k)\n",
    "                c.append(k)\n",
    "                result.append(\"1 3\")\n",
    "                count += 1\n",
    "                what = 'c'\n",
    "    if what == 'b':\n",
    "        if min(a)<min(c)\n",
    "    if min(b) < min(c):\n",
    "        k = min(b)\n",
    "        b.remove(k)\n",
    "        c.append(k)\n",
    "        result.append(\"2 3\")\n",
    "        count += 1\n",
    "    elif min(b) > min(c):\n",
    "        k = min(c)\n",
    "        c.remove(k)\n",
    "        b.append(k)\n",
    "        result.append(\"3 2\")\n",
    "        count += 1\n",
    "    else:"
   ]
  },
  {
   "cell_type": "code",
   "execution_count": null,
   "id": "82cbbcdf",
   "metadata": {},
   "outputs": [],
   "source": [
    "count"
   ]
  },
  {
   "cell_type": "code",
   "execution_count": 38,
   "id": "4975783d",
   "metadata": {},
   "outputs": [
    {
     "data": {
      "text/plain": [
       "[]"
      ]
     },
     "execution_count": 38,
     "metadata": {},
     "output_type": "execute_result"
    }
   ],
   "source": [
    "a"
   ]
  },
  {
   "cell_type": "code",
   "execution_count": 41,
   "id": "54387bc3",
   "metadata": {},
   "outputs": [
    {
     "data": {
      "text/plain": [
       "[1, 2, 3]"
      ]
     },
     "execution_count": 41,
     "metadata": {},
     "output_type": "execute_result"
    }
   ],
   "source": [
    "b"
   ]
  },
  {
   "cell_type": "code",
   "execution_count": 42,
   "id": "dfd0e0fb",
   "metadata": {},
   "outputs": [
    {
     "data": {
      "text/plain": [
       "[]"
      ]
     },
     "execution_count": 42,
     "metadata": {},
     "output_type": "execute_result"
    }
   ],
   "source": [
    "a = [i for i in range(1,4)]\n",
    "b = []\n",
    "c = []\n",
    "count = 0\n",
    "result = []\n",
    "bef_stack = ''\n",
    "while True:\n",
    "    if len(a) == 0 and len(b) ==0:\n",
    "        print(count)\n",
    "        for q in result:\n",
    "            print(q)\n",
    "        break\n",
    "        \n",
    "        \n",
    "    if len(b) == 0 and len(c) ==0:\n",
    "        if len(a)%2 == 0:\n",
    "            k = min(a)\n",
    "                a.remove(k)\n",
    "                b.append(k)\n",
    "                result.append(\"1 2\")\n",
    "                count += 1\n",
    "                bef_stack = 'b'\n",
    "        elif len(a)%2 == 1:\n",
    "                k = min(a)\n",
    "                a.remove(k)\n",
    "                c.append(k)\n",
    "                result.append(\"1 3\")\n",
    "                count += 1\n",
    "                bef_stack = 'c'\n",
    "                \n",
    "                \n",
    "    if bef_stack == 'b':\n",
    "        if min(a)<min(c):\n",
    "            if min(a) min()\n",
    "    if min(b) < min(c):\n",
    "        k = min(b)\n",
    "        b.remove(k)\n",
    "        c.append(k)\n",
    "        result.append(\"2 3\")\n",
    "        count += 1\n",
    "    elif min(b) > min(c):\n",
    "        k = min(c)\n",
    "        c.remove(k)\n",
    "        b.append(k)\n",
    "        result.append(\"3 2\")\n",
    "        count += 1\n",
    "    else:"
   ]
  },
  {
   "cell_type": "code",
   "execution_count": null,
   "id": "6512727e",
   "metadata": {},
   "outputs": [],
   "source": []
  }
 ],
 "metadata": {
  "kernelspec": {
   "display_name": "Python 3",
   "language": "python",
   "name": "python3"
  },
  "language_info": {
   "codemirror_mode": {
    "name": "ipython",
    "version": 3
   },
   "file_extension": ".py",
   "mimetype": "text/x-python",
   "name": "python",
   "nbconvert_exporter": "python",
   "pygments_lexer": "ipython3",
   "version": "3.8.8"
  }
 },
 "nbformat": 4,
 "nbformat_minor": 5
}
