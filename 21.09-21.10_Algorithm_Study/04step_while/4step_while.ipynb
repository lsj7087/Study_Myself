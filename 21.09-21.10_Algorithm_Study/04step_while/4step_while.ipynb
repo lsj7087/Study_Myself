{
 "cells": [
  {
   "cell_type": "code",
   "execution_count": 9,
   "id": "540ec24a",
   "metadata": {},
   "outputs": [
    {
     "name": "stdout",
     "output_type": "stream",
     "text": [
      "0 0\n"
     ]
    }
   ],
   "source": [
    "#A+B-5\n",
    "while True:\n",
    "    A, B = input().split()\n",
    "    if A == '0' and B == '0':\n",
    "        break\n",
    "    A = int(A)\n",
    "    B = int(B)\n",
    "    print(A+B)"
   ]
  },
  {
   "cell_type": "code",
   "execution_count": 14,
   "id": "0270e9c0",
   "metadata": {},
   "outputs": [
    {
     "name": "stdout",
     "output_type": "stream",
     "text": [
      "1 1\n",
      "2\n",
      "2\n"
     ]
    }
   ],
   "source": [
    "## A+B-4\n",
    "i = 1\n",
    "while True:\n",
    "    try:\n",
    "        A, B = input().split()\n",
    "        A = int(A)\n",
    "        B = int(B)\n",
    "        if 0<A<10 and 0<B<10:\n",
    "            print(A+B)\n",
    "    except:\n",
    "        break"
   ]
  },
  {
   "cell_type": "code",
   "execution_count": 54,
   "id": "76eeb783",
   "metadata": {},
   "outputs": [
    {
     "name": "stdout",
     "output_type": "stream",
     "text": [
      "55\n",
      "3\n"
     ]
    }
   ],
   "source": [
    "#더하기 사이클\n",
    "N = input()\n",
    "N1 = N\n",
    "num=0\n",
    "while True:\n",
    "    if len(N1)==1:\n",
    "        N2 = '0'+N1\n",
    "    else:\n",
    "        N2 = str(int(N1[0])+int(N1[1]))\n",
    "    N1 = str(int(N1[-1]+N2[-1]))\n",
    "    num+=1\n",
    "    if N1 == N:\n",
    "        break\n",
    "print(num)"
   ]
  }
 ],
 "metadata": {
  "kernelspec": {
   "display_name": "Python 3",
   "language": "python",
   "name": "python3"
  },
  "language_info": {
   "codemirror_mode": {
    "name": "ipython",
    "version": 3
   },
   "file_extension": ".py",
   "mimetype": "text/x-python",
   "name": "python",
   "nbconvert_exporter": "python",
   "pygments_lexer": "ipython3",
   "version": "3.8.8"
  }
 },
 "nbformat": 4,
 "nbformat_minor": 5
}
