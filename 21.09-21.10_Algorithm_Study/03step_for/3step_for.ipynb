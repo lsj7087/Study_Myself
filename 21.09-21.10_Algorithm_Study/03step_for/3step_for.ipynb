{
 "cells": [
  {
   "cell_type": "code",
   "execution_count": 3,
   "id": "6cf35f0d",
   "metadata": {},
   "outputs": [
    {
     "name": "stdout",
     "output_type": "stream",
     "text": [
      "2\n",
      "2 * 1 = 2\n",
      "2 * 2 = 4\n",
      "2 * 3 = 6\n",
      "2 * 4 = 8\n",
      "2 * 5 = 10\n",
      "2 * 6 = 12\n",
      "2 * 7 = 14\n",
      "2 * 8 = 16\n",
      "2 * 9 = 18\n"
     ]
    }
   ],
   "source": [
    "#구구단\n",
    "N = int(input(\"\"))\n",
    "for i in range(1,10):\n",
    "    print(\"%d * %d = %d\"%(N,i,N*i))"
   ]
  },
  {
   "cell_type": "code",
   "execution_count": 10,
   "id": "a9bfa42d",
   "metadata": {},
   "outputs": [
    {
     "name": "stdout",
     "output_type": "stream",
     "text": [
      "5\n",
      "1 2\n",
      "3\n",
      "2 3\n",
      "5\n",
      "3 4\n",
      "7\n",
      "9 8\n",
      "17\n",
      "5 2\n",
      "7\n"
     ]
    }
   ],
   "source": [
    "#A+B-3\n",
    "T = int(input(\"\"))\n",
    "for i in range(0,T):\n",
    "    A, B = list(map(int,input(\"\").split()))\n",
    "    if 0<A<10 and 0<B<10:\n",
    "        print(A+B)"
   ]
  },
  {
   "cell_type": "code",
   "execution_count": 12,
   "id": "34a96e07",
   "metadata": {
    "scrolled": false
   },
   "outputs": [
    {
     "name": "stdout",
     "output_type": "stream",
     "text": [
      "3\n",
      "6\n"
     ]
    }
   ],
   "source": [
    "#합\n",
    "n = int(input(\"\"))\n",
    "if 1<= n <= 10000:\n",
    "    sum = 0\n",
    "    for i in range(1,n+1):\n",
    "        sum += i\n",
    "    print(sum)"
   ]
  },
  {
   "cell_type": "code",
   "execution_count": 39,
   "id": "a095bca9",
   "metadata": {
    "scrolled": true
   },
   "outputs": [
    {
     "name": "stdout",
     "output_type": "stream",
     "text": [
      "5\n"
     ]
    },
    {
     "ename": "ValueError",
     "evalue": "not enough values to unpack (expected 2, got 0)",
     "output_type": "error",
     "traceback": [
      "\u001b[1;31m---------------------------------------------------------------------------\u001b[0m",
      "\u001b[1;31mValueError\u001b[0m                                Traceback (most recent call last)",
      "\u001b[1;32m<ipython-input-39-b805f25a56c1>\u001b[0m in \u001b[0;36m<module>\u001b[1;34m\u001b[0m\n\u001b[0;32m      5\u001b[0m \u001b[1;32mif\u001b[0m \u001b[1;36m1\u001b[0m \u001b[1;33m<=\u001b[0m \u001b[0mT\u001b[0m \u001b[1;33m<=\u001b[0m \u001b[1;36m1000000\u001b[0m\u001b[1;33m:\u001b[0m\u001b[1;33m\u001b[0m\u001b[1;33m\u001b[0m\u001b[0m\n\u001b[0;32m      6\u001b[0m     \u001b[1;32mfor\u001b[0m \u001b[0mi\u001b[0m \u001b[1;32min\u001b[0m \u001b[0mrange\u001b[0m\u001b[1;33m(\u001b[0m\u001b[0mT\u001b[0m\u001b[1;33m)\u001b[0m\u001b[1;33m:\u001b[0m\u001b[1;33m\u001b[0m\u001b[1;33m\u001b[0m\u001b[0m\n\u001b[1;32m----> 7\u001b[1;33m         \u001b[0mA\u001b[0m\u001b[1;33m,\u001b[0m \u001b[0mB\u001b[0m \u001b[1;33m=\u001b[0m \u001b[0mmap\u001b[0m\u001b[1;33m(\u001b[0m\u001b[0mint\u001b[0m\u001b[1;33m,\u001b[0m\u001b[0msys\u001b[0m\u001b[1;33m.\u001b[0m\u001b[0mstdin\u001b[0m\u001b[1;33m.\u001b[0m\u001b[0mreadline\u001b[0m\u001b[1;33m(\u001b[0m\u001b[1;33m)\u001b[0m\u001b[1;33m.\u001b[0m\u001b[0msplit\u001b[0m\u001b[1;33m(\u001b[0m\u001b[1;33m)\u001b[0m\u001b[1;33m)\u001b[0m\u001b[1;33m\u001b[0m\u001b[1;33m\u001b[0m\u001b[0m\n\u001b[0m\u001b[0;32m      8\u001b[0m         \u001b[1;32mif\u001b[0m \u001b[1;36m1\u001b[0m\u001b[1;33m<=\u001b[0m\u001b[0mA\u001b[0m\u001b[1;33m<=\u001b[0m\u001b[1;36m1000\u001b[0m \u001b[1;32mand\u001b[0m \u001b[1;36m1\u001b[0m\u001b[1;33m<=\u001b[0m\u001b[0mB\u001b[0m\u001b[1;33m<=\u001b[0m\u001b[1;36m1000\u001b[0m\u001b[1;33m:\u001b[0m\u001b[1;33m\u001b[0m\u001b[1;33m\u001b[0m\u001b[0m\n\u001b[0;32m      9\u001b[0m             \u001b[0mprint\u001b[0m\u001b[1;33m(\u001b[0m\u001b[0mA\u001b[0m\u001b[1;33m+\u001b[0m\u001b[0mB\u001b[0m\u001b[1;33m)\u001b[0m\u001b[1;33m\u001b[0m\u001b[1;33m\u001b[0m\u001b[0m\n",
      "\u001b[1;31mValueError\u001b[0m: not enough values to unpack (expected 2, got 0)"
     ]
    }
   ],
   "source": [
    "#빠른 A+B\n",
    "#이것도 실행 못하는 주피터 병신년\n",
    "import sys\n",
    "\n",
    "T = int(input())\n",
    "if 1 <= T <= 1000000:\n",
    "    for i in range(T):\n",
    "        A, B = map(int,sys.stdin.readline().split())\n",
    "        if 1<=A<=1000 and 1<=B<=1000:\n",
    "            print(A+B)"
   ]
  },
  {
   "cell_type": "code",
   "execution_count": 23,
   "id": "a56b363d",
   "metadata": {},
   "outputs": [
    {
     "name": "stdout",
     "output_type": "stream",
     "text": [
      "5\n",
      "1\n",
      "2\n",
      "3\n",
      "4\n",
      "5\n"
     ]
    }
   ],
   "source": [
    "#N 찍기\n",
    "N=int(input(\"\"))\n",
    "if 0 < N <= 100000:\n",
    "    for i in range(1,N+1):\n",
    "        print(i)"
   ]
  },
  {
   "cell_type": "code",
   "execution_count": 24,
   "id": "7c27e75d",
   "metadata": {},
   "outputs": [
    {
     "name": "stdout",
     "output_type": "stream",
     "text": [
      "5\n",
      "5\n",
      "4\n",
      "3\n",
      "2\n",
      "1\n"
     ]
    }
   ],
   "source": [
    "#기찍 N\n",
    "N=int(input(\"\"))\n",
    "if 0 < N <= 100000:\n",
    "    for i in range(0,N):\n",
    "        print(N-i)"
   ]
  },
  {
   "cell_type": "code",
   "execution_count": 27,
   "id": "309bf93f",
   "metadata": {},
   "outputs": [
    {
     "name": "stdout",
     "output_type": "stream",
     "text": [
      "5\n",
      "1 1\n",
      "Case #1: 2\n",
      "2 3\n",
      "Case #2: 5\n",
      "3 4\n",
      "Case #3: 7\n",
      "9 8\n",
      "Case #4: 17\n",
      "5 2\n",
      "Case #5: 7\n"
     ]
    }
   ],
   "source": [
    "#A+B-7\n",
    "T = int(input(\"\"))\n",
    "for i in range(1,T+1):\n",
    "    A, B = input(\"\").split()\n",
    "    A, B = int(A), int(B)\n",
    "    if 0<A<10 and 0<B<10:\n",
    "        print(\"Case #%d: %d\"%(i,A+B))"
   ]
  },
  {
   "cell_type": "code",
   "execution_count": 28,
   "id": "4a5a4484",
   "metadata": {},
   "outputs": [
    {
     "name": "stdout",
     "output_type": "stream",
     "text": [
      "5\n",
      "1 1\n",
      "Case #1: 1 + 1 = 2\n",
      "2 3\n",
      "Case #2: 2 + 3 = 5\n",
      "3 4\n",
      "Case #3: 3 + 4 = 7\n",
      "9 8\n",
      "Case #4: 9 + 8 = 17\n",
      "5 2\n",
      "Case #5: 5 + 2 = 7\n"
     ]
    }
   ],
   "source": [
    "#A+B-8\n",
    "T = int(input(\"\"))\n",
    "for i in range(1,T+1):\n",
    "    A, B = input(\"\").split()\n",
    "    A, B = int(A), int(B)\n",
    "    if 0<A<10 and 0<B<10:\n",
    "        print(\"Case #%d: %d + %d = %d\"%(i,A,B,A+B))"
   ]
  },
  {
   "cell_type": "code",
   "execution_count": 39,
   "id": "7009ab57",
   "metadata": {},
   "outputs": [
    {
     "name": "stdout",
     "output_type": "stream",
     "text": [
      "5\n",
      "*\n",
      "**\n",
      "***\n",
      "****\n",
      "*****\n"
     ]
    }
   ],
   "source": [
    "#별 찍기 -1\n",
    "N = int(input(\"\"))\n",
    "if 1<=N<=100:\n",
    "    result = \"\"\n",
    "    for i in range(N):\n",
    "        result = result + \"*\"\n",
    "        print(result)"
   ]
  },
  {
   "cell_type": "code",
   "execution_count": 42,
   "id": "32bb918e",
   "metadata": {},
   "outputs": [
    {
     "name": "stdout",
     "output_type": "stream",
     "text": [
      "5\n",
      "    *\n",
      "   **\n",
      "  ***\n",
      " ****\n",
      "*****\n"
     ]
    }
   ],
   "source": [
    "#별 찍기 -2\n",
    "N = int(input(\"\"))\n",
    "if 1<=N<=100:\n",
    "    for i in range(1,N+1):\n",
    "        result = \"\"\n",
    "        for j in range(N-i):\n",
    "            result = result + \" \"\n",
    "        for k in range(i):\n",
    "            result = result + \"*\"\n",
    "        print(result)"
   ]
  },
  {
   "cell_type": "code",
   "execution_count": 62,
   "id": "d23ff8a4",
   "metadata": {},
   "outputs": [
    {
     "name": "stdout",
     "output_type": "stream",
     "text": [
      "10 5\n",
      "1 10 4 9 2 3 8 5 7 6\n",
      "1 4 2 3 "
     ]
    }
   ],
   "source": [
    "#X보다 작은 수\n",
    "N, X = input(\"\").split()\n",
    "N, X = int(N), int(X)\n",
    "if 1<= X <= 10000 and 1<= N <= 10000:\n",
    "    A = list(map(int,input(\"\").split()))\n",
    "    for i in A:\n",
    "        if i < X:\n",
    "            print(i,end=\" \")"
   ]
  },
  {
   "cell_type": "code",
   "execution_count": 53,
   "id": "8e2fbca6",
   "metadata": {},
   "outputs": [
    {
     "data": {
      "text/plain": [
       "1"
      ]
     },
     "execution_count": 53,
     "metadata": {},
     "output_type": "execute_result"
    }
   ],
   "source": [
    "i"
   ]
  },
  {
   "cell_type": "code",
   "execution_count": null,
   "id": "6946e2dd",
   "metadata": {},
   "outputs": [],
   "source": []
  },
  {
   "cell_type": "code",
   "execution_count": null,
   "id": "53070c08",
   "metadata": {},
   "outputs": [],
   "source": []
  },
  {
   "cell_type": "code",
   "execution_count": null,
   "id": "91bd7eef",
   "metadata": {},
   "outputs": [],
   "source": []
  }
 ],
 "metadata": {
  "kernelspec": {
   "display_name": "Python 3",
   "language": "python",
   "name": "python3"
  },
  "language_info": {
   "codemirror_mode": {
    "name": "ipython",
    "version": 3
   },
   "file_extension": ".py",
   "mimetype": "text/x-python",
   "name": "python",
   "nbconvert_exporter": "python",
   "pygments_lexer": "ipython3",
   "version": "3.8.8"
  }
 },
 "nbformat": 4,
 "nbformat_minor": 5
}
