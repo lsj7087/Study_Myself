{
 "cells": [
  {
   "cell_type": "code",
   "execution_count": 17,
   "id": "36e5247e",
   "metadata": {},
   "outputs": [
    {
     "name": "stdout",
     "output_type": "stream",
     "text": [
      "1 2\n",
      "<\n"
     ]
    }
   ],
   "source": [
    "#두 수 비교하기\n",
    "A, B = input(\"\").split()\n",
    "A = int(A)\n",
    "B = int(B)\n",
    "if -10000 <= A <= 10000 and -10000 <= B <= 10000:\n",
    "    if A > B:\n",
    "        print('>')\n",
    "    elif A < B:\n",
    "        print('<')\n",
    "    elif A == B:\n",
    "        print('==')"
   ]
  },
  {
   "cell_type": "code",
   "execution_count": 24,
   "id": "187deb31",
   "metadata": {
    "scrolled": true
   },
   "outputs": [
    {
     "name": "stdout",
     "output_type": "stream",
     "text": [
      "2000\n"
     ]
    }
   ],
   "source": [
    "#시험 성적\n",
    "score = int(input(\"\"))\n",
    "if 100>=score>=0:\n",
    "    if 100 >= score >= 90:\n",
    "        print(\"A\")\n",
    "    elif 89 >= score >= 80:\n",
    "        print(\"B\")\n",
    "    elif 79 >= score >= 70:\n",
    "        print(\"C\")\n",
    "    elif 69 >= score >= 60:\n",
    "        print(\"D\")\n",
    "    else:\n",
    "        print(\"F\")"
   ]
  },
  {
   "cell_type": "code",
   "execution_count": null,
   "id": "4b348908",
   "metadata": {},
   "outputs": [],
   "source": [
    "#시험 성적2\n",
    "score = int(input(\"\"))\n",
    "if 100 >= score >= 90:\n",
    "    print(\"A\")\n",
    "elif 89 >= score >= 80:\n",
    "    print(\"B\")\n",
    "elif 79 >= score >= 70:\n",
    "    print(\"C\")\n",
    "elif 69 >= score >= 60:\n",
    "    print(\"D\")\n",
    "elif 59 >= score >= 0:\n",
    "    print(\"F\")"
   ]
  },
  {
   "cell_type": "code",
   "execution_count": 23,
   "id": "d649afcf",
   "metadata": {},
   "outputs": [
    {
     "name": "stdout",
     "output_type": "stream",
     "text": [
      "12131\n"
     ]
    }
   ],
   "source": [
    "#윤년\n",
    "year = int(input(\"\"))\n",
    "if 1 <= year <= 4000:\n",
    "    if (year%4 == 0 and year%100 != 0) or year%400 == 0:\n",
    "        print(1)\n",
    "    else:\n",
    "        print(0)"
   ]
  },
  {
   "cell_type": "code",
   "execution_count": 26,
   "id": "267b4c7e",
   "metadata": {},
   "outputs": [
    {
     "name": "stdout",
     "output_type": "stream",
     "text": [
      "9\n",
      "-12\n",
      "4\n"
     ]
    }
   ],
   "source": [
    "#사분면 고르기\n",
    "x = int(input(\"\"))\n",
    "y = int(input(\"\"))\n",
    "if -1000<=x<=1000 and x != 0 and -1000<=y<=1000 and y != 0:\n",
    "    if x > 0:\n",
    "        if y > 0:\n",
    "            print(1)\n",
    "        elif y < 0:\n",
    "            print(4)\n",
    "    elif x < 0:\n",
    "        if y > 0:\n",
    "            print(2)\n",
    "        elif y < 0:\n",
    "            print(3)"
   ]
  },
  {
   "cell_type": "code",
   "execution_count": 31,
   "id": "a3229516",
   "metadata": {},
   "outputs": [
    {
     "name": "stdout",
     "output_type": "stream",
     "text": [
      "23 40\n",
      "22 55\n"
     ]
    }
   ],
   "source": [
    "#알람 시계\n",
    "H, M = input(\"\").split()\n",
    "H = int(H)\n",
    "M = int(M)\n",
    "if 23>=H>=0 and 59>=M>=0:\n",
    "    if M <45:\n",
    "        if H == 0:\n",
    "            H = 23\n",
    "            M = M + 15\n",
    "        else:\n",
    "            H = H - 1\n",
    "            M = M + 15\n",
    "    else:\n",
    "        M = M - 45\n",
    "    print(H,M)"
   ]
  },
  {
   "cell_type": "code",
   "execution_count": null,
   "id": "097df6f5",
   "metadata": {},
   "outputs": [],
   "source": []
  },
  {
   "cell_type": "code",
   "execution_count": null,
   "id": "e6ec9d94",
   "metadata": {},
   "outputs": [],
   "source": []
  }
 ],
 "metadata": {
  "kernelspec": {
   "display_name": "Python 3",
   "language": "python",
   "name": "python3"
  },
  "language_info": {
   "codemirror_mode": {
    "name": "ipython",
    "version": 3
   },
   "file_extension": ".py",
   "mimetype": "text/x-python",
   "name": "python",
   "nbconvert_exporter": "python",
   "pygments_lexer": "ipython3",
   "version": "3.8.8"
  }
 },
 "nbformat": 4,
 "nbformat_minor": 5
}
