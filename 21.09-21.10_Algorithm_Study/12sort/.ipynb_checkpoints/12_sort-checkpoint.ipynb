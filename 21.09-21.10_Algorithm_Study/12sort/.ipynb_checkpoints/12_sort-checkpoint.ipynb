{
 "cells": [
  {
   "cell_type": "code",
   "execution_count": 6,
   "id": "749d15be",
   "metadata": {},
   "outputs": [
    {
     "name": "stdout",
     "output_type": "stream",
     "text": [
      "5\n",
      "5\n",
      "5\n",
      "4\n",
      "2\n",
      "3\n",
      "2\n",
      "3\n",
      "4\n",
      "5\n",
      "5\n"
     ]
    }
   ],
   "source": [
    "#수 정렬하기\n",
    "n=int(input(\"\"))\n",
    "num = []\n",
    "for i in range(n):\n",
    "    a= int(input(\"\"))\n",
    "    num.append(a)\n",
    "\n",
    "num.sort()\n",
    "for i in range(len(num)):\n",
    "    print(num[i])"
   ]
  },
  {
   "cell_type": "code",
   "execution_count": 13,
   "id": "ea50c80e",
   "metadata": {},
   "outputs": [
    {
     "name": "stdout",
     "output_type": "stream",
     "text": [
      "5\n",
      "3\n",
      "4\n",
      "5\n",
      "2\n",
      "1\n",
      "1\n",
      "2\n",
      "3\n",
      "4\n",
      "5\n"
     ]
    }
   ],
   "source": [
    "#수 정렬하기2\n",
    "n=int(input(\"\"))\n",
    "num = []\n",
    "for i in range(n):\n",
    "    a= int(input(\"\"))\n",
    "    num.append(a)\n",
    "\n",
    "\n",
    "for i in range(len(num)): #0~4\n",
    "    for j in range(4-i):\n",
    "        if num[j]>num[j+1]:\n",
    "            a = num[j]\n",
    "            b = num[j+1]\n",
    "            num[j] = b\n",
    "            num[j+1] = a\n",
    "        \n",
    "for i in range(len(num)):\n",
    "    print(num[i])"
   ]
  },
  {
   "cell_type": "code",
   "execution_count": 63,
   "id": "6df68832",
   "metadata": {},
   "outputs": [
    {
     "name": "stdout",
     "output_type": "stream",
     "text": [
      "6\n",
      "1\n",
      "1\n",
      "1\n",
      "1\n",
      "3\n",
      "2\n",
      "1\n",
      "1\n",
      "1\n",
      "1\n",
      "2\n",
      "3\n"
     ]
    }
   ],
   "source": [
    "#수 정렬하기3\n",
    "n=int(input(\"\"))\n",
    "count_num = {}\n",
    "\n",
    "for i in range(n):\n",
    "    a= int(input(\"\"))\n",
    "    if a not in count_num.keys():\n",
    "        count_num[a] = 1 \n",
    "    else:\n",
    "        count_num[a] = count_num[a] + 1\n",
    "\n",
    "        \n",
    "for i in sorted(count_num.keys()):\n",
    "    for j in range(count_num[i]):\n",
    "        print(i)"
   ]
  },
  {
   "cell_type": "code",
   "execution_count": 67,
   "id": "10310e0f",
   "metadata": {},
   "outputs": [
    {
     "name": "stdout",
     "output_type": "stream",
     "text": [
      "6 4 5\n"
     ]
    },
    {
     "ename": "ValueError",
     "evalue": "invalid literal for int() with base 10: '6 4 5'",
     "output_type": "error",
     "traceback": [
      "\u001b[1;31m---------------------------------------------------------------------------\u001b[0m",
      "\u001b[1;31mValueError\u001b[0m                                Traceback (most recent call last)",
      "\u001b[1;32m<ipython-input-67-01b0341600ac>\u001b[0m in \u001b[0;36m<module>\u001b[1;34m\u001b[0m\n\u001b[0;32m      1\u001b[0m \u001b[1;31m#수 정렬하기3 정답\u001b[0m\u001b[1;33m\u001b[0m\u001b[1;33m\u001b[0m\u001b[1;33m\u001b[0m\u001b[0m\n\u001b[0;32m      2\u001b[0m \u001b[1;32mimport\u001b[0m \u001b[0msys\u001b[0m\u001b[1;33m\u001b[0m\u001b[1;33m\u001b[0m\u001b[0m\n\u001b[1;32m----> 3\u001b[1;33m \u001b[0mN\u001b[0m \u001b[1;33m=\u001b[0m \u001b[0mint\u001b[0m\u001b[1;33m(\u001b[0m\u001b[0minput\u001b[0m\u001b[1;33m(\u001b[0m\u001b[1;33m)\u001b[0m\u001b[1;33m)\u001b[0m\u001b[1;33m\u001b[0m\u001b[1;33m\u001b[0m\u001b[0m\n\u001b[0m\u001b[0;32m      4\u001b[0m \u001b[1;33m\u001b[0m\u001b[0m\n\u001b[0;32m      5\u001b[0m \u001b[0mcheck_list\u001b[0m \u001b[1;33m=\u001b[0m \u001b[1;33m[\u001b[0m\u001b[1;36m0\u001b[0m\u001b[1;33m]\u001b[0m \u001b[1;33m*\u001b[0m \u001b[1;36m10001\u001b[0m\u001b[1;33m\u001b[0m\u001b[1;33m\u001b[0m\u001b[0m\n",
      "\u001b[1;31mValueError\u001b[0m: invalid literal for int() with base 10: '6 4 5'"
     ]
    }
   ],
   "source": [
    "#수 정렬하기3 정답\n",
    "import sys \n",
    "N = int(input()) \n",
    "\n",
    "check_list = [0] * 10001 \n",
    "for i in range(N):\n",
    "    input_num = int(sys.stdin.readline())\n",
    "    check_list[input_num] = check_list[input_num] + 1 \n",
    "\n",
    "for i in range(10001): \n",
    "    if check_list[i] != 0: \n",
    "        for j in range(check_list[i]):\n",
    "            print(i)\n"
   ]
  },
  {
   "cell_type": "code",
   "execution_count": 87,
   "id": "351917dd",
   "metadata": {},
   "outputs": [
    {
     "name": "stdout",
     "output_type": "stream",
     "text": [
      "5\n",
      "1\n",
      "3\n",
      "8\n",
      "-2\n",
      "2\n",
      "2\n",
      "1\n",
      "1\n",
      "10\n"
     ]
    }
   ],
   "source": [
    "#통계\n",
    "n=int(input(\"\"))\n",
    "num=[]\n",
    "\n",
    "for i in range(n):\n",
    "    a= int(input(\"\"))\n",
    "    num.append(a)\n",
    "\n",
    "num.sort()\n",
    "        \n",
    "        \n",
    "keys = list(set(num))\n",
    "keys.sort()\n",
    "\n",
    "#산술평균\n",
    "print(round(sum(num) / len(num)))\n",
    "\n",
    "#중앙값\n",
    "if len(num) % 2 == 0:\n",
    "    print(num[len(num) % 2])\n",
    "else:\n",
    "    print(num[int((len(num) % 2) + 0.5)])\n",
    "        \n",
    "#최빈값\n",
    "a = keys[0]\n",
    "for i in keys:\n",
    "    if  num.count(i) > num.count(a):\n",
    "        a = i\n",
    "print(count_num[a])\n",
    "\n",
    "#차이\n",
    "print(max(keys) - min(keys))"
   ]
  },
  {
   "cell_type": "code",
   "execution_count": 96,
   "id": "610657e2",
   "metadata": {},
   "outputs": [
    {
     "name": "stdout",
     "output_type": "stream",
     "text": [
      "24656787\n",
      "87766542"
     ]
    }
   ],
   "source": [
    "#소트 인사이드\n",
    "n=input(\"\")\n",
    "num = []\n",
    "for i in n:\n",
    "    num.append(int(i))\n",
    "\n",
    "num.sort(reverse = True)\n",
    "\n",
    "\n",
    "for i in num:\n",
    "    print(i,end=\"\")"
   ]
  },
  {
   "cell_type": "code",
   "execution_count": null,
   "id": "4d9b0ea8",
   "metadata": {},
   "outputs": [],
   "source": []
  }
 ],
 "metadata": {
  "kernelspec": {
   "display_name": "Python 3",
   "language": "python",
   "name": "python3"
  },
  "language_info": {
   "codemirror_mode": {
    "name": "ipython",
    "version": 3
   },
   "file_extension": ".py",
   "mimetype": "text/x-python",
   "name": "python",
   "nbconvert_exporter": "python",
   "pygments_lexer": "ipython3",
   "version": "3.8.8"
  }
 },
 "nbformat": 4,
 "nbformat_minor": 5
}
