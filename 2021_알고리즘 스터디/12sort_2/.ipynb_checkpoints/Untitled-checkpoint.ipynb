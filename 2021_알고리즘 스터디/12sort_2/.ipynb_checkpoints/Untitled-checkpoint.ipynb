{
 "cells": [
  {
   "cell_type": "markdown",
   "id": "bd5016a1",
   "metadata": {},
   "source": [
    "# 11650 좌표 정렬"
   ]
  },
  {
   "cell_type": "code",
   "execution_count": 40,
   "id": "9858215d",
   "metadata": {},
   "outputs": [
    {
     "name": "stdout",
     "output_type": "stream",
     "text": [
      "5\n",
      "3 4\n",
      "1 1\n",
      "1 -1\n",
      "2 2\n",
      "3 3\n",
      "1 -1\n",
      "1 1\n",
      "2 2\n",
      "3 3\n",
      "3 4\n"
     ]
    }
   ],
   "source": [
    "#알고리즘 짜니까 시간 초과\n",
    "n=int(input(\"\"))\n",
    "xy = []\n",
    "\n",
    "for i in range(n):\n",
    "    xy.append(list(map(int, input().split())))\n",
    "\n",
    "for i in range(len(xy)): #0~4\n",
    "    for j in range(len(xy) -1 -i):\n",
    "        if xy[i][0] > xy[i+1][0]:\n",
    "            xy[i], xy[i+1] = xy[i+1], xy[i]\n",
    "            \n",
    "for i in range(len(xy)): #0~4\n",
    "    for j in range(len(xy) -1 -i):            \n",
    "        if xy[i][0] == xy[i+1][0] and xy[i][1] > xy[i+1][1]:           \n",
    "            xy[i], xy[i+1] = xy[i+1], xy[i]    \n",
    "\n",
    "        \n",
    "for i, j in xy:\n",
    "    print(i,j)"
   ]
  },
  {
   "cell_type": "code",
   "execution_count": 33,
   "id": "751c16ab",
   "metadata": {},
   "outputs": [
    {
     "name": "stdout",
     "output_type": "stream",
     "text": [
      "5\n",
      "3 4\n",
      "1 1\n",
      "1 -1\n",
      "2 2\n",
      "3 3\n",
      "1 -1\n",
      "1 1\n",
      "2 2\n",
      "3 3\n",
      "3 4\n"
     ]
    }
   ],
   "source": [
    "#내장함수 사용\n",
    "n=int(input(\"\"))\n",
    "xy = []\n",
    "for i in range(n):\n",
    "    xy.append(list(map(int, input().split())))\n",
    "    \n",
    "xy.sort()\n",
    "for i in range(n):\n",
    "    print(xy[i][0],xy[i][1])"
   ]
  },
  {
   "cell_type": "markdown",
   "id": "5221244d",
   "metadata": {},
   "source": [
    "# 11651 좌표 정렬2"
   ]
  },
  {
   "cell_type": "code",
   "execution_count": 41,
   "id": "6a95465c",
   "metadata": {},
   "outputs": [
    {
     "name": "stdout",
     "output_type": "stream",
     "text": [
      "5\n",
      "0 4\n",
      "1 2\n",
      "1 -1\n",
      "2 2\n",
      "3 3\n",
      "1 -1\n",
      "1 2\n",
      "2 2\n",
      "3 3\n",
      "0 4\n"
     ]
    }
   ],
   "source": [
    "#뭔가 시간초과 뜰 것 같아서 걍 내장함수 씀\n",
    "#위에 알고리즘 인덱스만 수정하면 가능할듯\n",
    "n=int(input(\"\"))\n",
    "xy = []\n",
    "for i in range(n):\n",
    "    xy.append(list(map(int, input().split())))\n",
    "    \n",
    "xy.sort(key=lambda x: (x[1], x[0]))\n",
    "for i in range(n):\n",
    "    print(xy[i][0],xy[i][1])"
   ]
  },
  {
   "cell_type": "markdown",
   "id": "86afb54e",
   "metadata": {},
   "source": [
    "# 1181 단어정렬"
   ]
  },
  {
   "cell_type": "code",
   "execution_count": 71,
   "id": "efa3a857",
   "metadata": {},
   "outputs": [
    {
     "name": "stdout",
     "output_type": "stream",
     "text": [
      "13\n",
      "i\n",
      "wont\n",
      "but\n",
      "hesitate\n",
      "no\n",
      "more\n",
      "no\n",
      "more\n",
      "it\n",
      "cannot\n",
      "wait\n",
      "im\n",
      "yours\n",
      "i\n",
      "im\n",
      "it\n",
      "no\n",
      "but\n",
      "more\n",
      "wait\n",
      "wont\n",
      "yours\n",
      "cannot\n",
      "hesitate\n"
     ]
    }
   ],
   "source": [
    "#씨이발 중복 제거\n",
    "n=int(input(\"\"))\n",
    "words = []\n",
    "for i in range(n):\n",
    "    x = input()\n",
    "    words.append(x)\n",
    "    \n",
    "swords = list(set(words))\n",
    "swords.sort()\n",
    "swords.sort(key=len)\n",
    "\n",
    "for i in swords:\n",
    "    print(i)"
   ]
  },
  {
   "cell_type": "markdown",
   "id": "78f7b751",
   "metadata": {},
   "source": [
    "# 10814 나이순 정렬"
   ]
  },
  {
   "cell_type": "code",
   "execution_count": 62,
   "id": "29d28d0d",
   "metadata": {},
   "outputs": [
    {
     "name": "stdout",
     "output_type": "stream",
     "text": [
      "3\n",
      "21 Junkyu\n",
      "21 dodo\n",
      "20 seung\n",
      "20 seung\n",
      "21 Junkyu\n",
      "21 dodo\n"
     ]
    }
   ],
   "source": [
    "##따로 인덱스를 저장함\n",
    "n=int(input(\"\"))\n",
    "result = []\n",
    "for i in range(n):\n",
    "    age, name = map(str, input().split())\n",
    "    age = int(age)\n",
    "    result.append([i,age,name])\n",
    "    \n",
    "result.sort(key=lambda x: (x[1], x[0]))\n",
    "\n",
    "for i in range(n):\n",
    "    print(result[i][1], result[i][2])"
   ]
  },
  {
   "cell_type": "markdown",
   "id": "8b400337",
   "metadata": {},
   "source": [
    "# 18870 좌표압축"
   ]
  },
  {
   "cell_type": "code",
   "execution_count": 2,
   "id": "ef4f4fa6",
   "metadata": {},
   "outputs": [
    {
     "name": "stdout",
     "output_type": "stream",
     "text": [
      "1\n",
      "1\n",
      "0 "
     ]
    }
   ],
   "source": [
    "#ㅈ같은 시간초과 개같다.\n",
    "\n",
    "n = int(input())\n",
    "num= list(map(int, input().split()))\n",
    "\n",
    "cnum = []\n",
    "for i in range(n):\n",
    "    count = 0\n",
    "    for j in range(n):\n",
    "        if num[j] < num[i]:\n",
    "            count += 1\n",
    "    cnum.append(count)\n",
    "    \n",
    "for i in cnum:\n",
    "    print(i, end = \" \")"
   ]
  },
  {
   "cell_type": "code",
   "execution_count": null,
   "id": "eab4fb24",
   "metadata": {},
   "outputs": [],
   "source": []
  }
 ],
 "metadata": {
  "kernelspec": {
   "display_name": "Python 3",
   "language": "python",
   "name": "python3"
  },
  "language_info": {
   "codemirror_mode": {
    "name": "ipython",
    "version": 3
   },
   "file_extension": ".py",
   "mimetype": "text/x-python",
   "name": "python",
   "nbconvert_exporter": "python",
   "pygments_lexer": "ipython3",
   "version": "3.8.8"
  }
 },
 "nbformat": 4,
 "nbformat_minor": 5
}
