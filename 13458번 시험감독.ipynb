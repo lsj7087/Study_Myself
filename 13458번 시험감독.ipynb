{
 "cells": [
  {
   "cell_type": "markdown",
   "id": "5cf7a5e4",
   "metadata": {},
   "source": [
    "# 시도 1"
   ]
  },
  {
   "cell_type": "code",
   "execution_count": 43,
   "id": "98799443",
   "metadata": {},
   "outputs": [
    {
     "name": "stdout",
     "output_type": "stream",
     "text": [
      "5\n",
      "10 9 10 9 10\n",
      "7 20\n"
     ]
    },
    {
     "data": {
      "text/plain": [
       "5"
      ]
     },
     "execution_count": 43,
     "metadata": {},
     "output_type": "execute_result"
    }
   ],
   "source": [
    "from math import ceil\n",
    "\n",
    "n = int(input())\n",
    "a_lst = map(int,input().split())\n",
    "b, c = map(int,input().split())\n",
    "\n",
    "result = 0\n",
    "for a in a_lst:\n",
    "    result += min(ceil(a/c) , ceil((a-b)/c)+1)\n",
    "    \n",
    "result    "
   ]
  },
  {
   "cell_type": "markdown",
   "id": "b849af72",
   "metadata": {},
   "source": [
    "# 시도 2 (정답)"
   ]
  },
  {
   "cell_type": "code",
   "execution_count": 49,
   "id": "0cd6652d",
   "metadata": {},
   "outputs": [
    {
     "name": "stdout",
     "output_type": "stream",
     "text": [
      "1\n",
      "1\n",
      "1 1\n"
     ]
    },
    {
     "data": {
      "text/plain": [
       "1"
      ]
     },
     "execution_count": 49,
     "metadata": {},
     "output_type": "execute_result"
    }
   ],
   "source": [
    "from math import ceil\n",
    "\n",
    "n = int(input())\n",
    "a_lst = list(map(int,input().split()))\n",
    "b, c = map(int,input().split())\n",
    "\n",
    "result = 0\n",
    "for a in a_lst:\n",
    "    if a-b <= 0:\n",
    "        result += 1\n",
    "    else:\n",
    "        result += (ceil((a-b)/c)+1)\n",
    "    \n",
    "print(result)"
   ]
  }
 ],
 "metadata": {
  "kernelspec": {
   "display_name": "Python 3",
   "language": "python",
   "name": "python3"
  },
  "language_info": {
   "codemirror_mode": {
    "name": "ipython",
    "version": 3
   },
   "file_extension": ".py",
   "mimetype": "text/x-python",
   "name": "python",
   "nbconvert_exporter": "python",
   "pygments_lexer": "ipython3",
   "version": "3.8.8"
  }
 },
 "nbformat": 4,
 "nbformat_minor": 5
}
