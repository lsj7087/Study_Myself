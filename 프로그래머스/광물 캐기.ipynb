{
 "cells": [
  {
   "cell_type": "code",
   "execution_count": 67,
   "id": "1eda8be8",
   "metadata": {},
   "outputs": [],
   "source": [
    "def solution(picks, minerals):\n",
    "    label = {\"diamond\" : 2, \"iron\" : 1, \"stone\" : 0}\n",
    "    answer = 0\n",
    "    n = 0\n",
    "    minerals2 = [ minerals[i*5:(i+1)*5] for i in range(int(len(minerals)/5+1))][:sum(picks)]\n",
    "\n",
    "    time = {\"diamond\" : [], \"iron\" : [], \"stone\" : []}\n",
    "    for j in minerals2:\n",
    "        d_time = 0\n",
    "        i_time = 0\n",
    "        s_time = 0\n",
    "        for k in j:\n",
    "            d_time += 5**((label[k] - 2 + abs(label[k] - 2))/2)\n",
    "            i_time += 5**((label[k] - 1 + abs(label[k] - 1))/2)\n",
    "            s_time += 5**((label[k] + abs(label[k]))/2)\n",
    "        time[\"diamond\"].append(d_time)\n",
    "        time[\"iron\"].append(i_time)\n",
    "        time[\"stone\"].append(s_time)\n",
    "    picks2 = [0,0,0]\n",
    "    for i in range(len(minerals2)):\n",
    "        if picks[0] > 0:\n",
    "            picks2[0] += 1\n",
    "            picks[0]  -= 1\n",
    "        else:\n",
    "            if picks[1] > 0:\n",
    "                picks2[1] += 1\n",
    "                picks[1] -= 1\n",
    "            else:\n",
    "                picks2[2] += 1\n",
    "                picks[2] -= 1\n",
    "\n",
    "    for _ in range(picks2[2]):\n",
    "        ind = time[\"stone\"].index(min(time[\"stone\"]))\n",
    "        answer += time[\"stone\"].pop(ind)\n",
    "        time[\"iron\"].pop(ind)\n",
    "        time[\"diamond\"].pop(ind)\n",
    "\n",
    "    for _ in range(picks2[1]):\n",
    "        ind = time[\"iron\"].index(min(time[\"iron\"]))\n",
    "        time[\"stone\"].pop(ind)\n",
    "        answer += time[\"iron\"].pop(ind)\n",
    "        time[\"diamond\"].pop(ind)\n",
    "\n",
    "    for _ in range(picks2[0]):\n",
    "        ind = time[\"diamond\"].index(min(time[\"diamond\"]))\n",
    "        time[\"stone\"].pop(ind)\n",
    "        time[\"iron\"].pop(ind)\n",
    "        answer += time[\"diamond\"].pop(ind)\n",
    "    \n",
    "    return answer"
   ]
  },
  {
   "cell_type": "code",
   "execution_count": 68,
   "id": "6dbc31ef",
   "metadata": {},
   "outputs": [
    {
     "data": {
      "text/plain": [
       "12.0"
      ]
     },
     "execution_count": 68,
     "metadata": {},
     "output_type": "execute_result"
    }
   ],
   "source": [
    "solution([1, 3, 2],[\"diamond\", \"diamond\", \"diamond\", \"iron\", \"iron\", \"diamond\", \"iron\", \"stone\"])\n",
    "\n",
    "#12"
   ]
  },
  {
   "cell_type": "code",
   "execution_count": 69,
   "id": "b4bd0aa4",
   "metadata": {},
   "outputs": [
    {
     "data": {
      "text/plain": [
       "50.0"
      ]
     },
     "execution_count": 69,
     "metadata": {},
     "output_type": "execute_result"
    }
   ],
   "source": [
    "solution([0, 1, 1],[\"diamond\", \"diamond\", \"diamond\", \"diamond\", \"diamond\", \"iron\", \"iron\", \"iron\", \"iron\", \"iron\", \"diamond\"])\n",
    "\n",
    "#50"
   ]
  },
  {
   "cell_type": "code",
   "execution_count": null,
   "id": "7de0ec05",
   "metadata": {},
   "outputs": [],
   "source": []
  }
 ],
 "metadata": {
  "kernelspec": {
   "display_name": "Python 3 (ipykernel)",
   "language": "python",
   "name": "python3"
  },
  "language_info": {
   "codemirror_mode": {
    "name": "ipython",
    "version": 3
   },
   "file_extension": ".py",
   "mimetype": "text/x-python",
   "name": "python",
   "nbconvert_exporter": "python",
   "pygments_lexer": "ipython3",
   "version": "3.11.2"
  },
  "varInspector": {
   "cols": {
    "lenName": 16,
    "lenType": 16,
    "lenVar": 40
   },
   "kernels_config": {
    "python": {
     "delete_cmd_postfix": "",
     "delete_cmd_prefix": "del ",
     "library": "var_list.py",
     "varRefreshCmd": "print(var_dic_list())"
    },
    "r": {
     "delete_cmd_postfix": ") ",
     "delete_cmd_prefix": "rm(",
     "library": "var_list.r",
     "varRefreshCmd": "cat(var_dic_list()) "
    }
   },
   "types_to_exclude": [
    "module",
    "function",
    "builtin_function_or_method",
    "instance",
    "_Feature"
   ],
   "window_display": false
  }
 },
 "nbformat": 4,
 "nbformat_minor": 5
}
