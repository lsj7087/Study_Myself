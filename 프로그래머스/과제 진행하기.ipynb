{
 "cells": [
  {
   "cell_type": "code",
   "execution_count": 1,
   "id": "5c6b01da",
   "metadata": {},
   "outputs": [],
   "source": [
    "def solution(plans):\n",
    "    plans = sorted(map(lambda x: [x[0], int(x[1][:2]) * 60 + int(x[1][3:]), int(x[2])], plans), key=lambda x: -x[1])\n",
    "\n",
    "    lst = []\n",
    "    while plans:\n",
    "        x = plans.pop()\n",
    "        for i, v in enumerate(lst):\n",
    "            if v[0] > x[1]:\n",
    "                lst[i][0] += x[2]\n",
    "        lst.append([x[1] + x[2], x[0]])\n",
    "    lst.sort()\n",
    "\n",
    "    return list(map(lambda x: x[1], lst))"
   ]
  },
  {
   "cell_type": "code",
   "execution_count": 2,
   "id": "ffeb7a93",
   "metadata": {},
   "outputs": [
    {
     "data": {
      "text/plain": [
       "['korean', 'english', 'math']"
      ]
     },
     "execution_count": 2,
     "metadata": {},
     "output_type": "execute_result"
    }
   ],
   "source": [
    "solution([[\"korean\", \"11:40\", \"30\"], [\"english\", \"12:10\", \"20\"], [\"math\", \"12:30\", \"40\"]])"
   ]
  },
  {
   "cell_type": "code",
   "execution_count": 3,
   "id": "cd076a2b",
   "metadata": {},
   "outputs": [
    {
     "data": {
      "text/plain": [
       "['science', 'history', 'computer', 'music']"
      ]
     },
     "execution_count": 3,
     "metadata": {},
     "output_type": "execute_result"
    }
   ],
   "source": [
    "solution([[\"science\", \"12:40\", \"50\"], [\"music\", \"12:20\", \"40\"], [\"history\", \"14:00\", \"30\"], [\"computer\", \"12:30\", \"100\"]])"
   ]
  },
  {
   "cell_type": "code",
   "execution_count": null,
   "id": "8781d33c",
   "metadata": {},
   "outputs": [],
   "source": []
  },
  {
   "cell_type": "code",
   "execution_count": null,
   "id": "0b4bee15",
   "metadata": {},
   "outputs": [],
   "source": []
  }
 ],
 "metadata": {
  "kernelspec": {
   "display_name": "Python 3 (ipykernel)",
   "language": "python",
   "name": "python3"
  },
  "language_info": {
   "codemirror_mode": {
    "name": "ipython",
    "version": 3
   },
   "file_extension": ".py",
   "mimetype": "text/x-python",
   "name": "python",
   "nbconvert_exporter": "python",
   "pygments_lexer": "ipython3",
   "version": "3.11.2"
  },
  "varInspector": {
   "cols": {
    "lenName": 16,
    "lenType": 16,
    "lenVar": 40
   },
   "kernels_config": {
    "python": {
     "delete_cmd_postfix": "",
     "delete_cmd_prefix": "del ",
     "library": "var_list.py",
     "varRefreshCmd": "print(var_dic_list())"
    },
    "r": {
     "delete_cmd_postfix": ") ",
     "delete_cmd_prefix": "rm(",
     "library": "var_list.r",
     "varRefreshCmd": "cat(var_dic_list()) "
    }
   },
   "types_to_exclude": [
    "module",
    "function",
    "builtin_function_or_method",
    "instance",
    "_Feature"
   ],
   "window_display": false
  }
 },
 "nbformat": 4,
 "nbformat_minor": 5
}
